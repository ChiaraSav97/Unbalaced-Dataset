{
 "cells": [
  {
   "cell_type": "code",
   "execution_count": 169,
   "metadata": {},
   "outputs": [],
   "source": [
    "#Libraries required\n",
    "import pandas as pd\n",
    "import pylab as pl\n",
    "import numpy as np\n",
    "import scipy.optimize as opt\n",
    "from sklearn import preprocessing\n",
    "from sklearn.model_selection import train_test_split\n",
    "%matplotlib inline \n",
    "import matplotlib.pyplot as plt\n",
    "from sklearn.ensemble import RandomForestRegressor\n",
    "from sklearn.datasets import fetch_openml\n",
    "from sklearn.model_selection import train_test_split\n",
    "from sklearn.ensemble import RandomForestClassifier\n",
    "from sklearn.multiclass import OneVsRestClassifier\n",
    "from sklearn.metrics import precision_recall_curve, roc_curve\n",
    "from sklearn.preprocessing import label_binarize\n",
    "import tensorflow as tf\n",
    "from tensorflow.keras.metrics import Metric\n",
    "import tensorflow.compat.v1 as tf\n",
    "import warnings\n",
    "warnings.filterwarnings('ignore')"
   ]
  },
  {
   "cell_type": "markdown",
   "metadata": {
    "button": false,
    "new_sheet": false,
    "run_control": {
     "read_only": false
    }
   },
   "source": [
    "<h2 id=\"load_dataset\">Load the Youtube data</h2>\n",
    "I have chosen “The Trending YouTube Video Statistics” dataset, which is a daily record statistic for trending YouTube videos. The orginal Dataset includes video title, channel title, publish time, tags, views, likes, and dislikes, description, and comment count.\n",
    "\n",
    "| Column Description          |\n",
    "| --------------------------- |\n",
    "| Link of the video           |\n",
    "| Trending date               |\n",
    "| Title of the video          |\n",
    "| Name of the channel         |\n",
    "| Category of the video       |\n",
    "| Date of publishing          |\n",
    "| Views                       |\n",
    "| Tags                        |\n",
    "| Likes                       |\n",
    "| Dislikes                    |\n",
    "| Number of comments          |\n",
    "| Thumbnails                  |\n",
    "| Comments disabled           |\n",
    "| Ratings disabled            |\n",
    "| Error video or removed      |\n",
    "| Video description           |\n",
    "| Trending day                |\n",
    "| Trending month              |\n",
    "| Trending year               |\n",
    "| Trending wdays              |\n",
    "| Video time publishing       |\n"
   ]
  },
  {
   "cell_type": "markdown",
   "metadata": {
    "button": false,
    "new_sheet": false,
    "run_control": {
     "read_only": false
    }
   },
   "source": [
    "### Load Data From CSV File\n"
   ]
  },
  {
   "cell_type": "code",
   "execution_count": 170,
   "metadata": {
    "button": false,
    "new_sheet": false,
    "run_control": {
     "read_only": false
    }
   },
   "outputs": [
    {
     "name": "stdout",
     "output_type": "stream",
     "text": [
      "Link of the video         object\n",
      "Trending Date             object\n",
      "Title of the video        object\n",
      "Name of the channel       object\n",
      "Category of the video      int64\n",
      "Date of publishing        object\n",
      "Tags                      object\n",
      "Views                      int64\n",
      "Likes                      int64\n",
      "Dislikes                   int64\n",
      "Number of comments         int64\n",
      "Thumbnails                object\n",
      "Comments disabled           bool\n",
      "Ratings disabled            bool\n",
      "Error video or removed      bool\n",
      "Video description         object\n",
      "Trending day               int64\n",
      "Trending month             int64\n",
      "Trending year              int64\n",
      "Trending wdays            object\n",
      "Video time publishing     object\n",
      "dtype: object\n",
      "Tha maximum number of views of a Great Bretain video is: 9189544\n",
      "Tha minimum number of views of a Great Bretain video is: 851\n"
     ]
    }
   ],
   "source": [
    "#Load the dataset\n",
    "df = pd.read_csv(\"C://Users//kikis//Desktop//LASTYYYEAR//ml TESSERA//Nuova cartella//AI AND ML//cleanedDF.csv\",  delimiter=\";\", encoding=\"ISO-8859-1\")\n",
    "\n",
    "#We can take a look to the dataset\n",
    "df.head()\n",
    "#We can easy analize the type of every column\n",
    "print(df.dtypes)\n",
    "#I print the maximum (and the minimum) number of views of a video in GB\n",
    "print(\"Tha maximum number of views of a Great Bretain video is:\", df['Views'].max())\n",
    "print(\"Tha minimum number of views of a Great Bretain video is:\", df['Views'].min())"
   ]
  },
  {
   "cell_type": "code",
   "execution_count": 171,
   "metadata": {},
   "outputs": [],
   "source": [
    "#Since the time column is expressed in hours, minutes and seconds, I want to extrapolate only the hours\n",
    "df['Video time publishing'] = pd.to_timedelta(df[\"Video time publishing\"]).dt.components.iloc[:, 1:4]"
   ]
  },
  {
   "cell_type": "markdown",
   "metadata": {},
   "source": [
    "The publication time is useful because, depending on this, we can see when it is preferable to publish a video, in order to increase the number of views. Another interesting fact is the days of the week: depending on the day, the video could be a very successful or not."
   ]
  },
  {
   "cell_type": "code",
   "execution_count": 172,
   "metadata": {},
   "outputs": [
    {
     "data": {
      "text/plain": [
       "0         7\n",
       "1         6\n",
       "2         2\n",
       "3        17\n",
       "4        19\n",
       "         ..\n",
       "30397    16\n",
       "30398    16\n",
       "30399    16\n",
       "30400    17\n",
       "30401     4\n",
       "Name: Video time publishing, Length: 30402, dtype: category\n",
       "Categories (24, int64): [0, 1, 2, 3, ..., 20, 21, 22, 23]"
      ]
     },
     "execution_count": 172,
     "metadata": {},
     "output_type": "execute_result"
    }
   ],
   "source": [
    "#I have created a subset that contains only the columns that are significant for my analysis. The 'Title of the video' column, for example, \n",
    "#will not give me any useful information, since the title will be different for each published video. \n",
    "#Furthermore, it is impossible to predict what Title, a person, will want to give to his/her video.\n",
    "cdf = df[['Category of the video','Views','Likes', 'Dislikes','Trending wdays', 'Video time publishing']]\n",
    "cdf.head(9)\n",
    "#I convert the data type of the 2 columns, in order to manage them as categoric data.\n",
    "cdf['Trending wdays'].astype('category')\n",
    "cdf['Video time publishing'].astype('category')\n"
   ]
  },
  {
   "cell_type": "code",
   "execution_count": 173,
   "metadata": {},
   "outputs": [
    {
     "name": "stdout",
     "output_type": "stream",
     "text": [
      "There are 30402 rows and 6 columns in the dataset.\n"
     ]
    }
   ],
   "source": [
    "cdf.head()\n",
    "print(f\"There are {cdf.shape[0]} rows and {cdf.shape[1]} columns in the dataset.\")\n"
   ]
  },
  {
   "cell_type": "markdown",
   "metadata": {},
   "source": [
    "I would like to predict the number of views of a video should have based on the other characteristics."
   ]
  },
  {
   "cell_type": "code",
   "execution_count": 174,
   "metadata": {},
   "outputs": [
    {
     "data": {
      "text/plain": [
       "Category of the video   -0.228182\n",
       "Views                    1.000000\n",
       "Likes                    0.686275\n",
       "Dislikes                 0.331922\n",
       "Video time publishing   -0.064275\n",
       "Name: Views, dtype: float64"
      ]
     },
     "execution_count": 174,
     "metadata": {},
     "output_type": "execute_result"
    }
   ],
   "source": [
    "#It is possible to notice the degree of correlation of the variables with the target variable Y, \n",
    "#which corresponds to the number of views of a video.\n",
    "correlation_matrix = cdf.corr()\n",
    "correlation_matrix[\"Views\"]"
   ]
  },
  {
   "cell_type": "markdown",
   "metadata": {},
   "source": [
    "Negative correlation is a relationship between two variables in which one variable increases as the other decreases, and vice versa. In statistics, a perfect negative correlation is represented by the value -1.0, while a 0 indicates no correlation, and +1.0 indicates a perfect positive correlation. The variable that seems to be most correlated is the one represented by the number of Likes."
   ]
  },
  {
   "cell_type": "code",
   "execution_count": 175,
   "metadata": {},
   "outputs": [
    {
     "name": "stdout",
     "output_type": "stream",
     "text": [
      "Category of the video    4505\n",
      "Views                    4505\n",
      "Likes                    4505\n",
      "Dislikes                 4505\n",
      "Trending wdays           4505\n",
      "Video time publishing    4505\n",
      "dtype: int64\n",
      "Int64Index([  712,   713,   714,   715,   716,   717,   718,   719,   720,\n",
      "              721,\n",
      "            ...\n",
      "            29742, 29743, 29744, 29745, 29746, 29747, 29748, 29749, 29750,\n",
      "            29751],\n",
      "           dtype='int64', length=4505)\n",
      "       Category of the video    Views   Likes  Dislikes Trending wdays  \\\n",
      "0                         26  7224515   55681     10247        Tuesday   \n",
      "1                         24  1053632   25561      2294        Tuesday   \n",
      "2                         17    27833     193        12        Tuesday   \n",
      "3                         24  1182775   52708      1431        Tuesday   \n",
      "4                         22  1164201   57309       749        Tuesday   \n",
      "...                      ...      ...     ...       ...            ...   \n",
      "30397                     24  2665975   26126       599       Thursday   \n",
      "30398                     10  6078793   75335      2106       Thursday   \n",
      "30399                     10  1939400  169578      1202       Thursday   \n",
      "30400                     10  1492219   61998     13781       Thursday   \n",
      "30401                     10   607552   18271       274       Thursday   \n",
      "\n",
      "       Video time publishing  \n",
      "0                          7  \n",
      "1                          6  \n",
      "2                          2  \n",
      "3                         17  \n",
      "4                         19  \n",
      "...                      ...  \n",
      "30397                     16  \n",
      "30398                     16  \n",
      "30399                     16  \n",
      "30400                     17  \n",
      "30401                      4  \n",
      "\n",
      "[25897 rows x 6 columns]\n"
     ]
    }
   ],
   "source": [
    "pd.options.mode.chained_assignment = None  #default='warn'\n",
    "\n",
    "tot = cdf[ (cdf['Trending wdays'] == 'Saturday') ].count()\n",
    "print(tot)\n",
    "\n",
    "new = cdf[ (cdf['Trending wdays'] == 'Saturday') ].index\n",
    "print(new)\n",
    "cdf.drop(new , inplace=True)\n",
    "print(cdf)"
   ]
  },
  {
   "cell_type": "code",
   "execution_count": 176,
   "metadata": {},
   "outputs": [
    {
     "name": "stdout",
     "output_type": "stream",
     "text": [
      "Category of the video    4326\n",
      "Views                    4326\n",
      "Likes                    4326\n",
      "Dislikes                 4326\n",
      "Trending wdays           4326\n",
      "Video time publishing    4326\n",
      "dtype: int64\n",
      "Int64Index([  527,   528,   529,   530,   531,   532,   533,   534,   535,\n",
      "              536,\n",
      "            ...\n",
      "            29616, 29617, 29618, 29619, 29620, 29621, 29622, 29623, 29624,\n",
      "            29625],\n",
      "           dtype='int64', length=4326)\n",
      "       Category of the video    Views   Likes  Dislikes Trending wdays  \\\n",
      "0                         26  7224515   55681     10247        Tuesday   \n",
      "1                         24  1053632   25561      2294        Tuesday   \n",
      "2                         17    27833     193        12        Tuesday   \n",
      "3                         24  1182775   52708      1431        Tuesday   \n",
      "4                         22  1164201   57309       749        Tuesday   \n",
      "...                      ...      ...     ...       ...            ...   \n",
      "30397                     24  2665975   26126       599       Thursday   \n",
      "30398                     10  6078793   75335      2106       Thursday   \n",
      "30399                     10  1939400  169578      1202       Thursday   \n",
      "30400                     10  1492219   61998     13781       Thursday   \n",
      "30401                     10   607552   18271       274       Thursday   \n",
      "\n",
      "       Video time publishing  \n",
      "0                          7  \n",
      "1                          6  \n",
      "2                          2  \n",
      "3                         17  \n",
      "4                         19  \n",
      "...                      ...  \n",
      "30397                     16  \n",
      "30398                     16  \n",
      "30399                     16  \n",
      "30400                     17  \n",
      "30401                      4  \n",
      "\n",
      "[21571 rows x 6 columns]\n"
     ]
    }
   ],
   "source": [
    "pd.options.mode.chained_assignment = None  # default='warn'\n",
    "\n",
    "tot = cdf[ (cdf['Trending wdays'] == 'Friday') ].count()\n",
    "print(tot)\n",
    "\n",
    "new = cdf[ (cdf['Trending wdays'] == 'Friday') ].index\n",
    "print(new)\n",
    "cdf.drop(new , inplace=True)\n",
    "print(cdf)"
   ]
  },
  {
   "cell_type": "markdown",
   "metadata": {},
   "source": [
    "Since the dataset was large for my computer memory, I decided to delete the rows corresponding to the 'Trending week days' column, as they are negatively correlated with my y. In particular I have eliminated the columns where 'Trending week days' was equal to Saturday and Friday."
   ]
  },
  {
   "cell_type": "markdown",
   "metadata": {},
   "source": [
    "By adding up the number of views for the various days of the week for the various rows, it is possible to display 5 macro groups into which I could divide the column of the 'Views'."
   ]
  },
  {
   "cell_type": "code",
   "execution_count": 177,
   "metadata": {},
   "outputs": [
    {
     "data": {
      "text/plain": [
       "Trending wdays\n",
       "Monday       6788696935\n",
       "Sunday       6745646236\n",
       "Thursday     6866959457\n",
       "Tuesday      7079234780\n",
       "Wednesday    6893851967\n",
       "Name: Views, dtype: int64"
      ]
     },
     "execution_count": 177,
     "metadata": {},
     "output_type": "execute_result"
    }
   ],
   "source": [
    "cdf.groupby('Trending wdays')['Views'].sum()"
   ]
  },
  {
   "cell_type": "code",
   "execution_count": 178,
   "metadata": {},
   "outputs": [
    {
     "name": "stdout",
     "output_type": "stream",
     "text": [
      "4314.2\n"
     ]
    }
   ],
   "source": [
    "obs_for_group = cdf.shape[0]/5\n",
    "print(obs_for_group) #Observation for groups"
   ]
  },
  {
   "cell_type": "code",
   "execution_count": 179,
   "metadata": {},
   "outputs": [
    {
     "name": "stdout",
     "output_type": "stream",
     "text": [
      "Category of the video    4251\n",
      "Views                    4251\n",
      "Likes                    4251\n",
      "Dislikes                 4251\n",
      "Trending wdays           4251\n",
      "Video time publishing    4251\n",
      "dtype: int64\n",
      "Category of the video    4295\n",
      "Views                    4295\n",
      "Likes                    4295\n",
      "Dislikes                 4295\n",
      "Trending wdays           4295\n",
      "Video time publishing    4295\n",
      "dtype: int64\n",
      "Category of the video    4282\n",
      "Views                    4282\n",
      "Likes                    4282\n",
      "Dislikes                 4282\n",
      "Trending wdays           4282\n",
      "Video time publishing    4282\n",
      "dtype: int64\n",
      "Category of the video    4445\n",
      "Views                    4445\n",
      "Likes                    4445\n",
      "Dislikes                 4445\n",
      "Trending wdays           4445\n",
      "Video time publishing    4445\n",
      "dtype: int64\n",
      "Category of the video    4298\n",
      "Views                    4298\n",
      "Likes                    4298\n",
      "Dislikes                 4298\n",
      "Trending wdays           4298\n",
      "Video time publishing    4298\n",
      "dtype: int64\n"
     ]
    }
   ],
   "source": [
    "num_mon = cdf[(cdf['Trending wdays'] == 'Monday')].count()\n",
    "print(num_mon)\n",
    "\n",
    "num_sun = cdf[(cdf['Trending wdays'] == 'Sunday')].count()\n",
    "print(num_sun)\n",
    "\n",
    "num_thu = cdf[(cdf['Trending wdays'] == 'Thursday')].count()\n",
    "print(num_thu)\n",
    "\n",
    "num_tue = cdf[(cdf['Trending wdays'] == 'Tuesday')].count()\n",
    "print(num_tue)\n",
    "\n",
    "num_wen = cdf[(cdf['Trending wdays'] == 'Wednesday')].count()\n",
    "print(num_wen)\n",
    "\n",
    "#I can set 5 categories: \n",
    "# 1 --> For Monday\n",
    "# 2 -->  For Tuesday\n",
    "# 3 --> For Wednesday\n",
    "# 4 --> For Thursday\n",
    "# 5 --> For Sunday"
   ]
  },
  {
   "cell_type": "markdown",
   "metadata": {},
   "source": [
    "I replaced the lines for which the values of the days of the week were Monday, Tuesday, Wednesday, Thursday and Sunday with a categorical value. A categorical variable is a variable whose set of possible values consists of a finite number of categories (2 or more)."
   ]
  },
  {
   "cell_type": "code",
   "execution_count": 180,
   "metadata": {},
   "outputs": [
    {
     "data": {
      "image/png": "[encoded data removed]",
      "text/plain": [
       "<Figure size 432x288 with 1 Axes>"
      ]
     },
     "metadata": {
      "needs_background": "light"
     },
     "output_type": "display_data"
    }
   ],
   "source": [
    "import matplotlib.pyplot as plt\n",
    "cdf[\"Views\"].hist(bins=20)\n",
    "plt.show()"
   ]
  },
  {
   "cell_type": "markdown",
   "metadata": {},
   "source": [
    "The target variable is 'The number of views'. This code uses the pandas plotting functionality to generate a histogram with 20 bins. The decision to use 20 bins is based on a few trials. When defining the number of bins, I should have neither too many observations per bin nor too few. Too few bins can hide certain patterns, while too many bins can make the histogram lack smoothness."
   ]
  },
  {
   "cell_type": "code",
   "execution_count": 181,
   "metadata": {},
   "outputs": [
    {
     "name": "stdout",
     "output_type": "stream",
     "text": [
      "       Category of the video    Views   Likes  Dislikes Trending wdays  \\\n",
      "3488                      25      922      13         0         Sunday   \n",
      "3664                      25      937      13         0         Monday   \n",
      "3868                      25      972      13         0        Tuesday   \n",
      "4064                      25      983      13         0      Wednesday   \n",
      "4256                      25     1014      13         1       Thursday   \n",
      "...                      ...      ...     ...       ...            ...   \n",
      "28517                     10  9162725  410491     10837      Wednesday   \n",
      "12341                     10  9164600  196128     24541       Thursday   \n",
      "23985                      1  9170381   58491      2125       Thursday   \n",
      "21407                     17  9174835   93395     18690         Monday   \n",
      "14178                     24  9177109     934       115         Monday   \n",
      "\n",
      "       Video time publishing  \n",
      "3488                      18  \n",
      "3664                      18  \n",
      "3868                      18  \n",
      "4064                      18  \n",
      "4256                      18  \n",
      "...                      ...  \n",
      "28517                     17  \n",
      "12341                     13  \n",
      "23985                     14  \n",
      "21407                      1  \n",
      "14178                     18  \n",
      "\n",
      "[21571 rows x 6 columns]\n"
     ]
    }
   ],
   "source": [
    "print(cdf.sort_values(by=['Views']))"
   ]
  },
  {
   "cell_type": "code",
   "execution_count": 182,
   "metadata": {},
   "outputs": [
    {
     "data": {
      "text/html": [
       "<div>\n",
       "<style scoped>\n",
       "    .dataframe tbody tr th:only-of-type {\n",
       "        vertical-align: middle;\n",
       "    }\n",
       "\n",
       "    .dataframe tbody tr th {\n",
       "        vertical-align: top;\n",
       "    }\n",
       "\n",
       "    .dataframe thead th {\n",
       "        text-align: right;\n",
       "    }\n",
       "</style>\n",
       "<table border=\"1\" class=\"dataframe\">\n",
       "  <thead>\n",
       "    <tr style=\"text-align: right;\">\n",
       "      <th></th>\n",
       "      <th>Trending wdays_Monday</th>\n",
       "      <th>Trending wdays_Sunday</th>\n",
       "      <th>Trending wdays_Thursday</th>\n",
       "      <th>Trending wdays_Tuesday</th>\n",
       "      <th>Trending wdays_Wednesday</th>\n",
       "    </tr>\n",
       "  </thead>\n",
       "  <tbody>\n",
       "    <tr>\n",
       "      <th>0</th>\n",
       "      <td>0</td>\n",
       "      <td>0</td>\n",
       "      <td>0</td>\n",
       "      <td>1</td>\n",
       "      <td>0</td>\n",
       "    </tr>\n",
       "    <tr>\n",
       "      <th>1</th>\n",
       "      <td>0</td>\n",
       "      <td>0</td>\n",
       "      <td>0</td>\n",
       "      <td>1</td>\n",
       "      <td>0</td>\n",
       "    </tr>\n",
       "    <tr>\n",
       "      <th>2</th>\n",
       "      <td>0</td>\n",
       "      <td>0</td>\n",
       "      <td>0</td>\n",
       "      <td>1</td>\n",
       "      <td>0</td>\n",
       "    </tr>\n",
       "    <tr>\n",
       "      <th>3</th>\n",
       "      <td>0</td>\n",
       "      <td>0</td>\n",
       "      <td>0</td>\n",
       "      <td>1</td>\n",
       "      <td>0</td>\n",
       "    </tr>\n",
       "    <tr>\n",
       "      <th>4</th>\n",
       "      <td>0</td>\n",
       "      <td>0</td>\n",
       "      <td>0</td>\n",
       "      <td>1</td>\n",
       "      <td>0</td>\n",
       "    </tr>\n",
       "    <tr>\n",
       "      <th>5</th>\n",
       "      <td>0</td>\n",
       "      <td>0</td>\n",
       "      <td>0</td>\n",
       "      <td>1</td>\n",
       "      <td>0</td>\n",
       "    </tr>\n",
       "    <tr>\n",
       "      <th>6</th>\n",
       "      <td>0</td>\n",
       "      <td>0</td>\n",
       "      <td>0</td>\n",
       "      <td>1</td>\n",
       "      <td>0</td>\n",
       "    </tr>\n",
       "    <tr>\n",
       "      <th>7</th>\n",
       "      <td>0</td>\n",
       "      <td>0</td>\n",
       "      <td>0</td>\n",
       "      <td>1</td>\n",
       "      <td>0</td>\n",
       "    </tr>\n",
       "    <tr>\n",
       "      <th>8</th>\n",
       "      <td>0</td>\n",
       "      <td>0</td>\n",
       "      <td>0</td>\n",
       "      <td>1</td>\n",
       "      <td>0</td>\n",
       "    </tr>\n",
       "    <tr>\n",
       "      <th>9</th>\n",
       "      <td>0</td>\n",
       "      <td>0</td>\n",
       "      <td>0</td>\n",
       "      <td>1</td>\n",
       "      <td>0</td>\n",
       "    </tr>\n",
       "  </tbody>\n",
       "</table>\n",
       "</div>"
      ],
      "text/plain": [
       "   Trending wdays_Monday  Trending wdays_Sunday  Trending wdays_Thursday  \\\n",
       "0                      0                      0                        0   \n",
       "1                      0                      0                        0   \n",
       "2                      0                      0                        0   \n",
       "3                      0                      0                        0   \n",
       "4                      0                      0                        0   \n",
       "5                      0                      0                        0   \n",
       "6                      0                      0                        0   \n",
       "7                      0                      0                        0   \n",
       "8                      0                      0                        0   \n",
       "9                      0                      0                        0   \n",
       "\n",
       "   Trending wdays_Tuesday  Trending wdays_Wednesday  \n",
       "0                       1                         0  \n",
       "1                       1                         0  \n",
       "2                       1                         0  \n",
       "3                       1                         0  \n",
       "4                       1                         0  \n",
       "5                       1                         0  \n",
       "6                       1                         0  \n",
       "7                       1                         0  \n",
       "8                       1                         0  \n",
       "9                       1                         0  "
      ]
     },
     "execution_count": 182,
     "metadata": {},
     "output_type": "execute_result"
    }
   ],
   "source": [
    "#One-hot encode using pandas get_dummies\n",
    "#The categorical data must be converted to a numerical form.\n",
    "cdf = pd.get_dummies(cdf)\n",
    "cdf.iloc[:,5:].head(10)"
   ]
  },
  {
   "cell_type": "markdown",
   "metadata": {},
   "source": [
    "The number of Views does not represent a categorical or binary variable: to deal with it I decided to create a new Views_1 column: in particular it will be a categorical variable. The first class will contain videos with a number of views between 851 and 3000000, the second class will contain videos with a number of views included between 3000000 and 6000000, finally there will be the class with views included between 6000000 and 920000. "
   ]
  },
  {
   "cell_type": "code",
   "execution_count": 183,
   "metadata": {},
   "outputs": [
    {
     "name": "stdout",
     "output_type": "stream",
     "text": [
      "   Category of the video    Views  Likes  Dislikes  Video time publishing  \\\n",
      "0                     26  7224515  55681     10247                      7   \n",
      "1                     24  1053632  25561      2294                      6   \n",
      "2                     17    27833    193        12                      2   \n",
      "3                     24  1182775  52708      1431                     17   \n",
      "4                     22  1164201  57309       749                     19   \n",
      "\n",
      "   Trending wdays_Monday  Trending wdays_Sunday  Trending wdays_Thursday  \\\n",
      "0                      0                      0                        0   \n",
      "1                      0                      0                        0   \n",
      "2                      0                      0                        0   \n",
      "3                      0                      0                        0   \n",
      "4                      0                      0                        0   \n",
      "\n",
      "   Trending wdays_Tuesday  Trending wdays_Wednesday  Views_1  \n",
      "0                       1                         0      3.0  \n",
      "1                       1                         0      1.0  \n",
      "2                       1                         0      1.0  \n",
      "3                       1                         0      1.0  \n",
      "4                       1                         0      1.0  \n"
     ]
    }
   ],
   "source": [
    "cdf.loc[(cdf['Views'] >= 851) & (cdf['Views'] <= 3000000), 'Views_1']= 1\n",
    "cdf.loc[(cdf['Views'] >= 3000000) & (cdf['Views'] <= 6000000), 'Views_1']= 2\n",
    "cdf.loc[(cdf['Views'] >= 6000000) & (cdf['Views'] <= 9200000), 'Views_1']= 3\n",
    "print(cdf.head())"
   ]
  },
  {
   "cell_type": "code",
   "execution_count": 184,
   "metadata": {},
   "outputs": [
    {
     "data": {
      "text/plain": [
       "Category of the video       0\n",
       "Views                       0\n",
       "Likes                       0\n",
       "Dislikes                    0\n",
       "Video time publishing       0\n",
       "Trending wdays_Monday       0\n",
       "Trending wdays_Sunday       0\n",
       "Trending wdays_Thursday     0\n",
       "Trending wdays_Tuesday      0\n",
       "Trending wdays_Wednesday    0\n",
       "Views_1                     0\n",
       "dtype: int64"
      ]
     },
     "execution_count": 184,
     "metadata": {},
     "output_type": "execute_result"
    }
   ],
   "source": [
    "cdf.isna().sum()"
   ]
  },
  {
   "cell_type": "code",
   "execution_count": 185,
   "metadata": {},
   "outputs": [],
   "source": [
    "cdf['Views_1'] = cdf['Views_1'].astype(int)\n"
   ]
  },
  {
   "cell_type": "markdown",
   "metadata": {
    "papermill": {
     "duration": 0.054282,
     "end_time": "2021-12-31T22:13:27.449320",
     "exception": false,
     "start_time": "2021-12-31T22:13:27.395038",
     "status": "completed"
    },
    "tags": []
   },
   "source": [
    "# Train & Test"
   ]
  },
  {
   "cell_type": "markdown",
   "metadata": {},
   "source": [
    "My analysis could be a regression problem because I would like to predict the number of views based on the other characteristics. I would turn it into a classification problem, creating classes with the number of views, \n",
    "for example from 0 to 3000000 views is the least viral class and so on.\n",
    "In this way it would become a class assignment problem.\n",
    "Since I want to make a classification I will use the KNN algorithm."
   ]
  },
  {
   "cell_type": "markdown",
   "metadata": {},
   "source": [
    "The K-nearest neighbors (KNN) algorithm is a type of supervised machine learning algorithms. KNN is extremely easy and yet performs quite complex classification tasks. It is a lazy learning algorithm since it doesn't have a specialized training phase. Rather, it uses all of the data for training while classifying a new data point or instance. "
   ]
  },
  {
   "cell_type": "markdown",
   "metadata": {},
   "source": [
    "Classification is a classic machine learning application. Classification categorises the output in two classes.\n",
    "But what if you want to classify something that has more than 2 categories?\n",
    "This is where multi-class classification comes in. MultiClass classification can be defined as the classifying instances into one of three or more classes. I am going to do multi-class classification using K Nearest Neighbours. KNN is a super simple algorithm, which assumes that similar things are in close proximity of each other. So if a datapoint is near to another datapoint, it assumes that they both belong to similar classes. "
   ]
  },
  {
   "cell_type": "code",
   "execution_count": 186,
   "metadata": {},
   "outputs": [],
   "source": [
    "#Other libraries\n",
    "import statsmodels.api as sm\n",
    "import seaborn as sns\n",
    "sns.set()\n",
    "from sklearn.cluster import KMeans"
   ]
  },
  {
   "cell_type": "code",
   "execution_count": 187,
   "metadata": {},
   "outputs": [
    {
     "name": "stdout",
     "output_type": "stream",
     "text": [
      "       2  3\n",
      "0      0  1\n",
      "1      0  0\n",
      "2      0  0\n",
      "3      0  0\n",
      "4      0  0\n",
      "...   .. ..\n",
      "30397  0  0\n",
      "30398  0  1\n",
      "30399  0  0\n",
      "30400  0  0\n",
      "30401  0  0\n",
      "\n",
      "[21571 rows x 2 columns]\n"
     ]
    }
   ],
   "source": [
    "#The X variable contains the columns of the ds (but not y) while y contains the labels.\n",
    "X = cdf['Views_1']\n",
    "#I remove the variable labels from the df with the drop() function\n",
    "Y = cdf.drop('Views_1', axis = 1)\n",
    "Y = cdf.drop('Views', axis = 1)\n",
    "#The two columns Views and Views_1 represent the same thing. I expect the class will be predicted using the other factors.\n",
    "#Convert X variables to dummy variables\n",
    "X = pd.get_dummies(X, drop_first=True)  \n",
    "print(X)"
   ]
  },
  {
   "cell_type": "code",
   "execution_count": 188,
   "metadata": {},
   "outputs": [
    {
     "name": "stdout",
     "output_type": "stream",
     "text": [
      "(15099, 2) (6472, 2)\n"
     ]
    }
   ],
   "source": [
    "#Train and test: To avoid over-fitting, I will divide our dataset into training and test splits, which gives us a better idea as to\n",
    "#how our algorithm performed during the testing phase. \n",
    "X_train, X_test, y_train, y_test = train_test_split(X,Y, test_size=0.30,random_state=42) # 70% train set and 30% test set\n",
    "\n",
    "print(X_train.shape,X_test.shape)"
   ]
  },
  {
   "cell_type": "markdown",
   "metadata": {},
   "source": [
    "It is always a good practice to scale the features so, all of them, can be uniformly evaluated. Wikipedia explains the reasoning:\n",
    "\"Since the range of values of raw data varies widely, in some machine learning algorithms, objective functions will not work properly without normalization. For example, the majority of classifiers calculate the distance between two points by the Euclidean distance. If one of the features has a broad range of values, the distance will be governed by this particular feature. Therefore, the range of all features should be normalized so that each feature contributes approximately proportionately to the final distance.\""
   ]
  },
  {
   "cell_type": "code",
   "execution_count": 189,
   "metadata": {},
   "outputs": [],
   "source": [
    "from sklearn.preprocessing import StandardScaler\n",
    "scaler = StandardScaler()\n",
    "scaler.fit(X_train)\n",
    "\n",
    "X_train = scaler.transform(X_train)\n",
    "X_test = scaler.transform(X_test)"
   ]
  },
  {
   "cell_type": "markdown",
   "metadata": {},
   "source": [
    "The first step is to import the KNeighborsClassifier class from the sklearn.neighbors library. Then, the class is initialized with the parameter n_neigbours. This is the value for the K. There is no ideal value for K and it is selected after testing and evaluation, however I will choose 5 that seems to be the most commonly used value for KNN algorithm."
   ]
  },
  {
   "cell_type": "code",
   "execution_count": 196,
   "metadata": {},
   "outputs": [
    {
     "data": {
      "text/plain": [
       "MultiOutputClassifier(estimator=KNeighborsClassifier(), n_jobs=-1)"
      ]
     },
     "execution_count": 196,
     "metadata": {},
     "output_type": "execute_result"
    }
   ],
   "source": [
    "from sklearn.multioutput import MultiOutputClassifier\n",
    "from sklearn.neighbors import KNeighborsClassifier\n",
    "\n",
    "\n",
    "knn = KNeighborsClassifier(n_neighbors=5)\n",
    "#The MultiOutputClassifier is a strategy consists of fitting one classifier per target. \n",
    "#This is a simple strategy for extending classifiers that do not natively support multi-target classification.\n",
    "\n",
    "classifier = MultiOutputClassifier(knn, n_jobs=-1)\n",
    "           \n",
    "classifier.fit(X_train, y_train)\n",
    "#By fitting a model we find the optimal values for the fixed parameters using some algorithm. "
   ]
  },
  {
   "cell_type": "markdown",
   "metadata": {
    "papermill": {
     "duration": 0.055823,
     "end_time": "2021-12-31T22:13:29.382132",
     "exception": false,
     "start_time": "2021-12-31T22:13:29.326309",
     "status": "completed"
    },
    "tags": []
   },
   "source": [
    "# Predicting Test Data"
   ]
  },
  {
   "cell_type": "code",
   "execution_count": 197,
   "metadata": {},
   "outputs": [
    {
     "name": "stdout",
     "output_type": "stream",
     "text": [
      "[[   10 82466  1559 ...     0     0     2]\n",
      " [   10 82466  1559 ...     0     0     2]\n",
      " [   24  1032    67 ...     0     0     1]\n",
      " ...\n",
      " [   24  1032    67 ...     0     0     1]\n",
      " [   24  1032    67 ...     0     0     1]\n",
      " [   24  1032    67 ...     0     0     1]]\n"
     ]
    }
   ],
   "source": [
    "#Predictions on test data.\n",
    "y_pred = classifier.predict(X_test)\n",
    "print(y_pred)"
   ]
  },
  {
   "cell_type": "markdown",
   "metadata": {
    "papermill": {
     "duration": 0.056051,
     "end_time": "2021-12-31T22:13:29.617074",
     "exception": false,
     "start_time": "2021-12-31T22:13:29.561023",
     "status": "completed"
    },
    "tags": []
   },
   "source": [
    "# Evaluating the Model"
   ]
  },
  {
   "cell_type": "markdown",
   "metadata": {},
   "source": [
    "For estimation of the metric over a stream of data, the function creates an update_op operation that returns the precision_at_<k>. Internally, a top_k operation computes a Tensor indicating the top k predictions. Set operations applied to top_k and labels calculate the true positives and false positives weighted by weights. Then update_op increments true_positive_at_<k> and false_positive_at_<k> using these values."
   ]
  },
  {
   "cell_type": "code",
   "execution_count": 192,
   "metadata": {},
   "outputs": [
    {
     "name": "stdout",
     "output_type": "stream",
     "text": [
      "0.5784147095179234\n",
      "0.5838483724763035\n"
     ]
    }
   ],
   "source": [
    "tf.disable_v2_behavior()\n",
    "metric = tf.compat.v1.metrics.average_precision_at_k(y_test, y_pred, 2)\n",
    "\n",
    "sess = tf.Session()\n",
    "sess.run(tf.local_variables_initializer())\n",
    "\n",
    "precision, update = sess.run(metric)\n",
    "print(precision)\n",
    "\n",
    "metric_1 = tf.compat.v1.metrics.average_precision_at_k(y_test, y_pred, 3)\n",
    "\n",
    "sess = tf.Session()\n",
    "sess.run(tf.local_variables_initializer())\n",
    "\n",
    "precision, update = sess.run(metric_1)\n",
    "print(precision)"
   ]
  },
  {
   "cell_type": "markdown",
   "metadata": {},
   "source": [
    "The results show that KNN algorithm was able to classify the records in the test set, of the type 3 (Views between 6000000 e 920000000) , with 58% of accuracy, which is low. I can see the accuracy also for the other categories."
   ]
  },
  {
   "cell_type": "markdown",
   "metadata": {},
   "source": [
    "KNN performs better with a lower number of features than a large number of features. I can say that when the number of features increases than it requires more data. Increase in dimension also leads to the problem of overfitting. To avoid overfitting, the data will need to grow exponentially the number of dimensions increase. "
   ]
  },
  {
   "cell_type": "code",
   "execution_count": 193,
   "metadata": {},
   "outputs": [],
   "source": [
    "error = []\n",
    "\n",
    "# Calculating error for K values between 1 and 40\n",
    "for i in range(1, 40):\n",
    "    knn = KNeighborsClassifier(n_neighbors=i)\n",
    "    classifier = MultiOutputClassifier(knn, n_jobs=-1)\n",
    "    knn.fit(X_train, y_train)\n",
    "    pred_i = knn.predict(X_test)\n",
    "    error.append(np.mean(pred_i != y_test)) "
   ]
  },
  {
   "cell_type": "markdown",
   "metadata": {},
   "source": [
    "At each iteration the mean error for predicted values of test set is calculated and the result is appended to the error list.\n",
    "\n",
    "I have to plot the error values against K values:"
   ]
  },
  {
   "cell_type": "code",
   "execution_count": 194,
   "metadata": {},
   "outputs": [
    {
     "data": {
      "text/plain": [
       "Text(0, 0.5, 'Mean Error')"
      ]
     },
     "execution_count": 194,
     "metadata": {},
     "output_type": "execute_result"
    },
    {
     "data": {
      "image/png": "[encoded data removed]",
      "text/plain": [
       "<Figure size 864x432 with 1 Axes>"
      ]
     },
     "metadata": {},
     "output_type": "display_data"
    }
   ],
   "source": [
    "plt.figure(figsize=(12, 6))\n",
    "plt.plot(range(1, 40), error, color='red', linestyle='dashed', marker='o',\n",
    "         markerfacecolor='blue', markersize=10)\n",
    "plt.title('Error Rate K Value')\n",
    "plt.xlabel('K Value')\n",
    "plt.ylabel('Mean Error')"
   ]
  },
  {
   "cell_type": "markdown",
   "metadata": {},
   "source": [
    "From the output we can see that the mean error is zero when the value of the K is between 0 and 40 for the first category.\n",
    "The mean error is between 0,2 and 0,9 when the value of the K is between 0 and 40 for the second category."
   ]
  },
  {
   "cell_type": "markdown",
   "metadata": {},
   "source": [
    "I should implement the KNN algorithm for a different classification dataset. Vary the test and training size along with the K value to see how your results differ and how can I improve the accuracy of your algorithm. "
   ]
  },
  {
   "cell_type": "markdown",
   "metadata": {},
   "source": [
    "I know that a 'Classification' is a prediction task with a categorical target variable. Classification models learn how to classify any new observation. This assigned class can be either right or wrong, not in between. Here I am trying to predict the number of views of a videos, based on the other characteristics. \n",
    "\n",
    "A great thing about model-tuning tools is that many of them are not only applicable to the kNN algorithm, but they also apply to many other machine learning algorithms. \n",
    "The accuracy is not high because KNN performs best with a low number of features."
   ]
  }
 ],
 "metadata": {
  "kernelspec": {
   "display_name": "Python 3",
   "language": "python",
   "name": "python3"
  },
  "language_info": {
   "codemirror_mode": {
    "name": "ipython",
    "version": 3
   },
   "file_extension": ".py",
   "mimetype": "text/x-python",
   "name": "python",
   "nbconvert_exporter": "python",
   "pygments_lexer": "ipython3",
   "version": "3.8.5"
  }
 },
 "nbformat": 4,
 "nbformat_minor": 4
}
