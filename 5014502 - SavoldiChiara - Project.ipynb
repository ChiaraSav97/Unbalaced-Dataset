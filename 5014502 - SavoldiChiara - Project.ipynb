{
 "cells": [
  {
   "cell_type": "markdown",
   "metadata": {},
   "source": [
    "# Savoldi Chiara 5014502"
   ]
  },
  {
   "cell_type": "markdown",
   "metadata": {},
   "source": [
    "# Bank Personal Loan Modelling"
   ]
  },
  {
   "cell_type": "markdown",
   "metadata": {},
   "source": [
    "# Libraries required"
   ]
  },
  {
   "cell_type": "code",
   "execution_count": 26,
   "metadata": {},
   "outputs": [],
   "source": [
    "import warnings\n",
    "warnings.filterwarnings(\"ignore\")\n",
    "import pandas as pd\n",
    "import numpy as np\n",
    "import matplotlib as mpl \n",
    "import matplotlib.pyplot as plt\n",
    "import seaborn as sns"
   ]
  },
  {
   "cell_type": "markdown",
   "metadata": {},
   "source": [
    "## Load the Dataset"
   ]
  },
  {
   "cell_type": "code",
   "execution_count": 27,
   "metadata": {},
   "outputs": [],
   "source": [
    "bank = pd.read_csv(\"C://Users//kikis//Desktop//LASTYYYEAR//ml TESSERA//Nuova cartella//AI AND ML//Bank_Personal_Loan_Modelling.csv\")"
   ]
  },
  {
   "cell_type": "markdown",
   "metadata": {},
   "source": [
    "The dataset contains files from a bank whose management wants to explore ways to convert their passive customers into personal loan customers (while still keeping them as depositors). Last year, the bank launched a campaign for liability customers that showed a conversion rate of over 9% success. This encouraged the retail marketing department to design campaigns with better-targeted marketing to increase the success rate with a minimal budget.\n",
    "The Bank.xls file contains data on 5000 customers. The data includes the customer's demographic information (age, income, etc.), the customer's relationship with the bank (mortgage, securities account, etc.), and the customer's response to the latest personal loan campaign (Personal Loan). In particular:\n",
    "\n",
    "1) ID client;\n",
    "\n",
    "2) Customer’s age: it is an integer column;\n",
    "\n",
    "3) Number of years of professional experience: integer column;\n",
    "\n",
    "4) Annual income of the customer (dollars): integer column;\n",
    "\n",
    "5) Home Address ZIP code: integer column;\n",
    "\n",
    "6) Family size of the customer: integer column;\n",
    "\n",
    "7) Average spending on credit cards per month (dollars): integer column;\n",
    "\n",
    "8) Education Level. It can have 3 values: \n",
    "\n",
    "– 1: Undergrad;\n",
    "\n",
    "– 2: Graduate;\n",
    "\n",
    "– 3: Advanced / Professional;\n",
    "\n",
    "9) Value of house mortgage (if any/dollars);\n",
    "\n",
    "10) Did this customer accept the personal loan offered in the last campaign? it has only two values: 0 (no) & 1 (yes); \n",
    "\n",
    "11) Securities_account: Does the customer have a securities account with the bank? \n",
    "\n",
    "12) CD_Account: Does the customer have a certificate of deposit (A certificate of deposit (CD) is a savings account that holds a fixed amount of money for a fixed period of time, such as six months, one year, or five years, and in exchange, the issuing bank pays interest.) account with the bank?;\n",
    "\n",
    "13) Online: Does the customer use internet banking facilities?;\n",
    "\n",
    "14) CreditCard: Does the customer use a credit card issued by this Bank?\n",
    "\n",
    "Securities_account, CD_Account, Online, and CreditCard are int datatype but with Binary inputs.\n",
    "My objective is to predict whether a liability customer will buy a personal loan or not."
   ]
  },
  {
   "cell_type": "code",
   "execution_count": 28,
   "metadata": {},
   "outputs": [
    {
     "name": "stdout",
     "output_type": "stream",
     "text": [
      "There are 5000 rows and 14 columns in the dataset.\n"
     ]
    },
    {
     "data": {
      "text/html": [
       "<div>\n",
       "<style scoped>\n",
       "    .dataframe tbody tr th:only-of-type {\n",
       "        vertical-align: middle;\n",
       "    }\n",
       "\n",
       "    .dataframe tbody tr th {\n",
       "        vertical-align: top;\n",
       "    }\n",
       "\n",
       "    .dataframe thead th {\n",
       "        text-align: right;\n",
       "    }\n",
       "</style>\n",
       "<table border=\"1\" class=\"dataframe\">\n",
       "  <thead>\n",
       "    <tr style=\"text-align: right;\">\n",
       "      <th></th>\n",
       "      <th>ID</th>\n",
       "      <th>Age</th>\n",
       "      <th>Experience</th>\n",
       "      <th>Income</th>\n",
       "      <th>ZIP Code</th>\n",
       "      <th>Family</th>\n",
       "      <th>CCAvg</th>\n",
       "      <th>Education</th>\n",
       "      <th>Mortgage</th>\n",
       "      <th>Personal Loan</th>\n",
       "      <th>Securities Account</th>\n",
       "      <th>CD Account</th>\n",
       "      <th>Online</th>\n",
       "      <th>CreditCard</th>\n",
       "    </tr>\n",
       "  </thead>\n",
       "  <tbody>\n",
       "    <tr>\n",
       "      <th>3411</th>\n",
       "      <td>3412</td>\n",
       "      <td>63</td>\n",
       "      <td>37</td>\n",
       "      <td>118</td>\n",
       "      <td>94010</td>\n",
       "      <td>1</td>\n",
       "      <td>2.0</td>\n",
       "      <td>1</td>\n",
       "      <td>427</td>\n",
       "      <td>0</td>\n",
       "      <td>0</td>\n",
       "      <td>0</td>\n",
       "      <td>0</td>\n",
       "      <td>0</td>\n",
       "    </tr>\n",
       "    <tr>\n",
       "      <th>4241</th>\n",
       "      <td>4242</td>\n",
       "      <td>34</td>\n",
       "      <td>9</td>\n",
       "      <td>40</td>\n",
       "      <td>95054</td>\n",
       "      <td>4</td>\n",
       "      <td>2.0</td>\n",
       "      <td>2</td>\n",
       "      <td>0</td>\n",
       "      <td>0</td>\n",
       "      <td>0</td>\n",
       "      <td>0</td>\n",
       "      <td>1</td>\n",
       "      <td>1</td>\n",
       "    </tr>\n",
       "    <tr>\n",
       "      <th>2799</th>\n",
       "      <td>2800</td>\n",
       "      <td>64</td>\n",
       "      <td>39</td>\n",
       "      <td>85</td>\n",
       "      <td>94720</td>\n",
       "      <td>4</td>\n",
       "      <td>3.4</td>\n",
       "      <td>2</td>\n",
       "      <td>200</td>\n",
       "      <td>0</td>\n",
       "      <td>0</td>\n",
       "      <td>0</td>\n",
       "      <td>1</td>\n",
       "      <td>0</td>\n",
       "    </tr>\n",
       "    <tr>\n",
       "      <th>4132</th>\n",
       "      <td>4133</td>\n",
       "      <td>61</td>\n",
       "      <td>36</td>\n",
       "      <td>133</td>\n",
       "      <td>90266</td>\n",
       "      <td>1</td>\n",
       "      <td>2.6</td>\n",
       "      <td>1</td>\n",
       "      <td>0</td>\n",
       "      <td>0</td>\n",
       "      <td>0</td>\n",
       "      <td>0</td>\n",
       "      <td>1</td>\n",
       "      <td>0</td>\n",
       "    </tr>\n",
       "    <tr>\n",
       "      <th>3220</th>\n",
       "      <td>3221</td>\n",
       "      <td>61</td>\n",
       "      <td>35</td>\n",
       "      <td>28</td>\n",
       "      <td>93302</td>\n",
       "      <td>2</td>\n",
       "      <td>0.2</td>\n",
       "      <td>3</td>\n",
       "      <td>135</td>\n",
       "      <td>0</td>\n",
       "      <td>0</td>\n",
       "      <td>0</td>\n",
       "      <td>1</td>\n",
       "      <td>0</td>\n",
       "    </tr>\n",
       "    <tr>\n",
       "      <th>1614</th>\n",
       "      <td>1615</td>\n",
       "      <td>47</td>\n",
       "      <td>23</td>\n",
       "      <td>89</td>\n",
       "      <td>94920</td>\n",
       "      <td>1</td>\n",
       "      <td>2.6</td>\n",
       "      <td>2</td>\n",
       "      <td>0</td>\n",
       "      <td>0</td>\n",
       "      <td>1</td>\n",
       "      <td>1</td>\n",
       "      <td>1</td>\n",
       "      <td>1</td>\n",
       "    </tr>\n",
       "    <tr>\n",
       "      <th>4992</th>\n",
       "      <td>4993</td>\n",
       "      <td>30</td>\n",
       "      <td>5</td>\n",
       "      <td>13</td>\n",
       "      <td>90037</td>\n",
       "      <td>4</td>\n",
       "      <td>0.5</td>\n",
       "      <td>3</td>\n",
       "      <td>0</td>\n",
       "      <td>0</td>\n",
       "      <td>0</td>\n",
       "      <td>0</td>\n",
       "      <td>0</td>\n",
       "      <td>0</td>\n",
       "    </tr>\n",
       "    <tr>\n",
       "      <th>3375</th>\n",
       "      <td>3376</td>\n",
       "      <td>43</td>\n",
       "      <td>18</td>\n",
       "      <td>88</td>\n",
       "      <td>90089</td>\n",
       "      <td>4</td>\n",
       "      <td>1.1</td>\n",
       "      <td>2</td>\n",
       "      <td>0</td>\n",
       "      <td>0</td>\n",
       "      <td>0</td>\n",
       "      <td>0</td>\n",
       "      <td>1</td>\n",
       "      <td>0</td>\n",
       "    </tr>\n",
       "    <tr>\n",
       "      <th>4023</th>\n",
       "      <td>4024</td>\n",
       "      <td>51</td>\n",
       "      <td>25</td>\n",
       "      <td>175</td>\n",
       "      <td>90089</td>\n",
       "      <td>3</td>\n",
       "      <td>0.7</td>\n",
       "      <td>1</td>\n",
       "      <td>312</td>\n",
       "      <td>1</td>\n",
       "      <td>0</td>\n",
       "      <td>0</td>\n",
       "      <td>0</td>\n",
       "      <td>0</td>\n",
       "    </tr>\n",
       "    <tr>\n",
       "      <th>793</th>\n",
       "      <td>794</td>\n",
       "      <td>24</td>\n",
       "      <td>-2</td>\n",
       "      <td>150</td>\n",
       "      <td>94720</td>\n",
       "      <td>2</td>\n",
       "      <td>2.0</td>\n",
       "      <td>1</td>\n",
       "      <td>0</td>\n",
       "      <td>0</td>\n",
       "      <td>0</td>\n",
       "      <td>0</td>\n",
       "      <td>1</td>\n",
       "      <td>0</td>\n",
       "    </tr>\n",
       "  </tbody>\n",
       "</table>\n",
       "</div>"
      ],
      "text/plain": [
       "        ID  Age  Experience  Income  ZIP Code  Family  CCAvg  Education  \\\n",
       "3411  3412   63          37     118     94010       1    2.0          1   \n",
       "4241  4242   34           9      40     95054       4    2.0          2   \n",
       "2799  2800   64          39      85     94720       4    3.4          2   \n",
       "4132  4133   61          36     133     90266       1    2.6          1   \n",
       "3220  3221   61          35      28     93302       2    0.2          3   \n",
       "1614  1615   47          23      89     94920       1    2.6          2   \n",
       "4992  4993   30           5      13     90037       4    0.5          3   \n",
       "3375  3376   43          18      88     90089       4    1.1          2   \n",
       "4023  4024   51          25     175     90089       3    0.7          1   \n",
       "793    794   24          -2     150     94720       2    2.0          1   \n",
       "\n",
       "      Mortgage  Personal Loan  Securities Account  CD Account  Online  \\\n",
       "3411       427              0                   0           0       0   \n",
       "4241         0              0                   0           0       1   \n",
       "2799       200              0                   0           0       1   \n",
       "4132         0              0                   0           0       1   \n",
       "3220       135              0                   0           0       1   \n",
       "1614         0              0                   1           1       1   \n",
       "4992         0              0                   0           0       0   \n",
       "3375         0              0                   0           0       1   \n",
       "4023       312              1                   0           0       0   \n",
       "793          0              0                   0           0       1   \n",
       "\n",
       "      CreditCard  \n",
       "3411           0  \n",
       "4241           1  \n",
       "2799           0  \n",
       "4132           0  \n",
       "3220           0  \n",
       "1614           1  \n",
       "4992           0  \n",
       "3375           0  \n",
       "4023           0  \n",
       "793            0  "
      ]
     },
     "execution_count": 28,
     "metadata": {},
     "output_type": "execute_result"
    }
   ],
   "source": [
    "print(f\"There are {bank.shape[0]} rows and {bank.shape[1]} columns in the dataset.\")\n",
    "\n",
    "np.random.seed(85) \n",
    "bank.sample(10) #Visualize only 10 rows."
   ]
  },
  {
   "cell_type": "code",
   "execution_count": 29,
   "metadata": {},
   "outputs": [
    {
     "data": {
      "text/plain": [
       "0    4520\n",
       "1     480\n",
       "Name: Personal Loan, dtype: int64"
      ]
     },
     "execution_count": 29,
     "metadata": {},
     "output_type": "execute_result"
    }
   ],
   "source": [
    "bank['Personal Loan'].value_counts()"
   ]
  },
  {
   "cell_type": "markdown",
   "metadata": {},
   "source": [
    "The first thing we can notice is the problem of 'The Unbalance dataset'. The classes are unbalanced means that more people said 'no' than those who said 'yes. This could create problems as my dataset will have a harder time learning when a person chooses to accept the campaign. This problem is called Classin balance.\n",
    "As we can see, only about 9,6% of the observations were balanced. Therefore, if we always predict 0, we'd achieve an accuracy of 90%. I will work on this problem later.\n"
   ]
  },
  {
   "cell_type": "markdown",
   "metadata": {},
   "source": [
    "# DATA SUMMARY"
   ]
  },
  {
   "cell_type": "markdown",
   "metadata": {},
   "source": [
    "The info() function prints information about the index dtype and column dtypes, non-null values and memory usage. The 64 refers to the memory allocated to store data in each cell, which is related to how many digits it can store in each “cell”."
   ]
  },
  {
   "cell_type": "code",
   "execution_count": 30,
   "metadata": {},
   "outputs": [
    {
     "name": "stdout",
     "output_type": "stream",
     "text": [
      "<class 'pandas.core.frame.DataFrame'>\n",
      "RangeIndex: 5000 entries, 0 to 4999\n",
      "Data columns (total 14 columns):\n",
      " #   Column              Non-Null Count  Dtype  \n",
      "---  ------              --------------  -----  \n",
      " 0   ID                  5000 non-null   int64  \n",
      " 1   Age                 5000 non-null   int64  \n",
      " 2   Experience          5000 non-null   int64  \n",
      " 3   Income              5000 non-null   int64  \n",
      " 4   ZIP Code            5000 non-null   int64  \n",
      " 5   Family              5000 non-null   int64  \n",
      " 6   CCAvg               5000 non-null   float64\n",
      " 7   Education           5000 non-null   int64  \n",
      " 8   Mortgage            5000 non-null   int64  \n",
      " 9   Personal Loan       5000 non-null   int64  \n",
      " 10  Securities Account  5000 non-null   int64  \n",
      " 11  CD Account          5000 non-null   int64  \n",
      " 12  Online              5000 non-null   int64  \n",
      " 13  CreditCard          5000 non-null   int64  \n",
      "dtypes: float64(1), int64(13)\n",
      "memory usage: 547.0 KB\n"
     ]
    }
   ],
   "source": [
    "bank.info() "
   ]
  },
  {
   "cell_type": "markdown",
   "metadata": {},
   "source": [
    "* Int64: 64 refers to the memory allocated to hold this character;\n",
    "* Float64 refers to characters with decimals. If a column contains numbers and Na values, pandas will default to float64."
   ]
  },
  {
   "cell_type": "code",
   "execution_count": 31,
   "metadata": {},
   "outputs": [
    {
     "data": {
      "text/html": [
       "<div>\n",
       "<style scoped>\n",
       "    .dataframe tbody tr th:only-of-type {\n",
       "        vertical-align: middle;\n",
       "    }\n",
       "\n",
       "    .dataframe tbody tr th {\n",
       "        vertical-align: top;\n",
       "    }\n",
       "\n",
       "    .dataframe thead th {\n",
       "        text-align: right;\n",
       "    }\n",
       "</style>\n",
       "<table border=\"1\" class=\"dataframe\">\n",
       "  <thead>\n",
       "    <tr style=\"text-align: right;\">\n",
       "      <th></th>\n",
       "      <th>count</th>\n",
       "      <th>mean</th>\n",
       "      <th>std</th>\n",
       "      <th>min</th>\n",
       "      <th>25%</th>\n",
       "      <th>50%</th>\n",
       "      <th>75%</th>\n",
       "      <th>max</th>\n",
       "    </tr>\n",
       "  </thead>\n",
       "  <tbody>\n",
       "    <tr>\n",
       "      <th>ID</th>\n",
       "      <td>5000.0</td>\n",
       "      <td>2500.500000</td>\n",
       "      <td>1443.520003</td>\n",
       "      <td>1.0</td>\n",
       "      <td>1250.75</td>\n",
       "      <td>2500.5</td>\n",
       "      <td>3750.25</td>\n",
       "      <td>5000.0</td>\n",
       "    </tr>\n",
       "    <tr>\n",
       "      <th>Age</th>\n",
       "      <td>5000.0</td>\n",
       "      <td>45.338400</td>\n",
       "      <td>11.463166</td>\n",
       "      <td>23.0</td>\n",
       "      <td>35.00</td>\n",
       "      <td>45.0</td>\n",
       "      <td>55.00</td>\n",
       "      <td>67.0</td>\n",
       "    </tr>\n",
       "    <tr>\n",
       "      <th>Experience</th>\n",
       "      <td>5000.0</td>\n",
       "      <td>20.104600</td>\n",
       "      <td>11.467954</td>\n",
       "      <td>-3.0</td>\n",
       "      <td>10.00</td>\n",
       "      <td>20.0</td>\n",
       "      <td>30.00</td>\n",
       "      <td>43.0</td>\n",
       "    </tr>\n",
       "    <tr>\n",
       "      <th>Income</th>\n",
       "      <td>5000.0</td>\n",
       "      <td>73.774200</td>\n",
       "      <td>46.033729</td>\n",
       "      <td>8.0</td>\n",
       "      <td>39.00</td>\n",
       "      <td>64.0</td>\n",
       "      <td>98.00</td>\n",
       "      <td>224.0</td>\n",
       "    </tr>\n",
       "    <tr>\n",
       "      <th>ZIP Code</th>\n",
       "      <td>5000.0</td>\n",
       "      <td>93152.503000</td>\n",
       "      <td>2121.852197</td>\n",
       "      <td>9307.0</td>\n",
       "      <td>91911.00</td>\n",
       "      <td>93437.0</td>\n",
       "      <td>94608.00</td>\n",
       "      <td>96651.0</td>\n",
       "    </tr>\n",
       "    <tr>\n",
       "      <th>Family</th>\n",
       "      <td>5000.0</td>\n",
       "      <td>2.396400</td>\n",
       "      <td>1.147663</td>\n",
       "      <td>1.0</td>\n",
       "      <td>1.00</td>\n",
       "      <td>2.0</td>\n",
       "      <td>3.00</td>\n",
       "      <td>4.0</td>\n",
       "    </tr>\n",
       "    <tr>\n",
       "      <th>CCAvg</th>\n",
       "      <td>5000.0</td>\n",
       "      <td>1.937938</td>\n",
       "      <td>1.747659</td>\n",
       "      <td>0.0</td>\n",
       "      <td>0.70</td>\n",
       "      <td>1.5</td>\n",
       "      <td>2.50</td>\n",
       "      <td>10.0</td>\n",
       "    </tr>\n",
       "    <tr>\n",
       "      <th>Education</th>\n",
       "      <td>5000.0</td>\n",
       "      <td>1.881000</td>\n",
       "      <td>0.839869</td>\n",
       "      <td>1.0</td>\n",
       "      <td>1.00</td>\n",
       "      <td>2.0</td>\n",
       "      <td>3.00</td>\n",
       "      <td>3.0</td>\n",
       "    </tr>\n",
       "    <tr>\n",
       "      <th>Mortgage</th>\n",
       "      <td>5000.0</td>\n",
       "      <td>56.498800</td>\n",
       "      <td>101.713802</td>\n",
       "      <td>0.0</td>\n",
       "      <td>0.00</td>\n",
       "      <td>0.0</td>\n",
       "      <td>101.00</td>\n",
       "      <td>635.0</td>\n",
       "    </tr>\n",
       "    <tr>\n",
       "      <th>Personal Loan</th>\n",
       "      <td>5000.0</td>\n",
       "      <td>0.096000</td>\n",
       "      <td>0.294621</td>\n",
       "      <td>0.0</td>\n",
       "      <td>0.00</td>\n",
       "      <td>0.0</td>\n",
       "      <td>0.00</td>\n",
       "      <td>1.0</td>\n",
       "    </tr>\n",
       "    <tr>\n",
       "      <th>Securities Account</th>\n",
       "      <td>5000.0</td>\n",
       "      <td>0.104400</td>\n",
       "      <td>0.305809</td>\n",
       "      <td>0.0</td>\n",
       "      <td>0.00</td>\n",
       "      <td>0.0</td>\n",
       "      <td>0.00</td>\n",
       "      <td>1.0</td>\n",
       "    </tr>\n",
       "    <tr>\n",
       "      <th>CD Account</th>\n",
       "      <td>5000.0</td>\n",
       "      <td>0.060400</td>\n",
       "      <td>0.238250</td>\n",
       "      <td>0.0</td>\n",
       "      <td>0.00</td>\n",
       "      <td>0.0</td>\n",
       "      <td>0.00</td>\n",
       "      <td>1.0</td>\n",
       "    </tr>\n",
       "    <tr>\n",
       "      <th>Online</th>\n",
       "      <td>5000.0</td>\n",
       "      <td>0.596800</td>\n",
       "      <td>0.490589</td>\n",
       "      <td>0.0</td>\n",
       "      <td>0.00</td>\n",
       "      <td>1.0</td>\n",
       "      <td>1.00</td>\n",
       "      <td>1.0</td>\n",
       "    </tr>\n",
       "    <tr>\n",
       "      <th>CreditCard</th>\n",
       "      <td>5000.0</td>\n",
       "      <td>0.294000</td>\n",
       "      <td>0.455637</td>\n",
       "      <td>0.0</td>\n",
       "      <td>0.00</td>\n",
       "      <td>0.0</td>\n",
       "      <td>1.00</td>\n",
       "      <td>1.0</td>\n",
       "    </tr>\n",
       "  </tbody>\n",
       "</table>\n",
       "</div>"
      ],
      "text/plain": [
       "                     count          mean          std     min       25%  \\\n",
       "ID                  5000.0   2500.500000  1443.520003     1.0   1250.75   \n",
       "Age                 5000.0     45.338400    11.463166    23.0     35.00   \n",
       "Experience          5000.0     20.104600    11.467954    -3.0     10.00   \n",
       "Income              5000.0     73.774200    46.033729     8.0     39.00   \n",
       "ZIP Code            5000.0  93152.503000  2121.852197  9307.0  91911.00   \n",
       "Family              5000.0      2.396400     1.147663     1.0      1.00   \n",
       "CCAvg               5000.0      1.937938     1.747659     0.0      0.70   \n",
       "Education           5000.0      1.881000     0.839869     1.0      1.00   \n",
       "Mortgage            5000.0     56.498800   101.713802     0.0      0.00   \n",
       "Personal Loan       5000.0      0.096000     0.294621     0.0      0.00   \n",
       "Securities Account  5000.0      0.104400     0.305809     0.0      0.00   \n",
       "CD Account          5000.0      0.060400     0.238250     0.0      0.00   \n",
       "Online              5000.0      0.596800     0.490589     0.0      0.00   \n",
       "CreditCard          5000.0      0.294000     0.455637     0.0      0.00   \n",
       "\n",
       "                        50%       75%      max  \n",
       "ID                   2500.5   3750.25   5000.0  \n",
       "Age                    45.0     55.00     67.0  \n",
       "Experience             20.0     30.00     43.0  \n",
       "Income                 64.0     98.00    224.0  \n",
       "ZIP Code            93437.0  94608.00  96651.0  \n",
       "Family                  2.0      3.00      4.0  \n",
       "CCAvg                   1.5      2.50     10.0  \n",
       "Education               2.0      3.00      3.0  \n",
       "Mortgage                0.0    101.00    635.0  \n",
       "Personal Loan           0.0      0.00      1.0  \n",
       "Securities Account      0.0      0.00      1.0  \n",
       "CD Account              0.0      0.00      1.0  \n",
       "Online                  1.0      1.00      1.0  \n",
       "CreditCard              0.0      1.00      1.0  "
      ]
     },
     "execution_count": 31,
     "metadata": {},
     "output_type": "execute_result"
    }
   ],
   "source": [
    "bank.describe().T"
   ]
  },
  {
   "cell_type": "markdown",
   "metadata": {},
   "source": [
    "* The Mean and Median for 'Age' is almost equal to 45 years old;\n",
    "* The minimum value for Mortgage is 0.0 for at least 50% of the customers: this could mean that half of the customers do not own a home, for example;\n",
    "* Experience Column has a min value -3, which could be an error because it makes no sense for a person to have negative years of experience;\n",
    "* CCavg minimum value is 0.0 dollars; suggesting that the customer may not have any credit cards."
   ]
  },
  {
   "cell_type": "markdown",
   "metadata": {},
   "source": [
    "## Exploration analysis:"
   ]
  },
  {
   "cell_type": "markdown",
   "metadata": {},
   "source": [
    "## ZIP Code variable"
   ]
  },
  {
   "cell_type": "code",
   "execution_count": 32,
   "metadata": {},
   "outputs": [
    {
     "name": "stdout",
     "output_type": "stream",
     "text": [
      "0       91107\n",
      "1       90089\n",
      "2       94720\n",
      "3       94112\n",
      "4       91330\n",
      "        ...  \n",
      "4995    92697\n",
      "4996    92037\n",
      "4997    93023\n",
      "4998    90034\n",
      "4999    92612\n",
      "Name: ZIP Code, Length: 5000, dtype: int64\n",
      "\n",
      "\n",
      "We only have 467 unique values. It means that, for the remaining observations: 5000 - 467 = 4533, we have these 467 codes repeated.\n"
     ]
    }
   ],
   "source": [
    "#Check the number of uniques in the zip code to extract only the country where the customer is living.\n",
    "print(bank['ZIP Code'])\n",
    "bank['ZIP Code'].nunique()\n",
    "print(\"\\n\")\n",
    "print(\"We only have 467 unique values. It means that, for the remaining observations: 5000 - 467 = 4533, we have these 467 codes repeated.\")"
   ]
  },
  {
   "cell_type": "markdown",
   "metadata": {},
   "source": [
    "In US, the first digit of a PIN indicates the zone or a region, the second indicates the sub-zone, and the third, combined with the first two, indicates the sorting district within that zone. The final three digits are assigned to individual post offices within the sorting district. \n",
    "The goal is to consider only the first two digits of the zip code, in order to reduce the possibilities to 7 groups."
   ]
  },
  {
   "cell_type": "code",
   "execution_count": 33,
   "metadata": {},
   "outputs": [
    {
     "name": "stdout",
     "output_type": "stream",
     "text": [
      "               ID    Age  Experience  Income  Family    CCAvg  Education  \\\n",
      "ZIP Code                                                                   \n",
      "90        1802823  32177       14439   53513    1651  1356.13       1300   \n",
      "91        1422344  25745       11483   42836    1315  1138.48       1087   \n",
      "92        2357576  45034       20123   72821    2387  1920.28       1869   \n",
      "93        1089792  19095        8562   30575     972   819.00        804   \n",
      "94        3641224  66510       29363  107233    3588  2833.62       2762   \n",
      "95        2085654  36399       15823   59336    1964  1555.41       1507   \n",
      "96         103087   1732         730    2557     105    66.77         76   \n",
      "\n",
      "          Mortgage  Personal Loan  Securities Account  CD Account  Online  \\\n",
      "ZIP Code                                                                    \n",
      "90           38511             67                  74          37     409   \n",
      "91           33407             55                  57          31     335   \n",
      "92           55935             94                 103          52     571   \n",
      "93           23566             43                  43          28     255   \n",
      "94           79116            138                 161         102     880   \n",
      "95           49536             80                  79          48     508   \n",
      "96            2423              3                   5           4      26   \n",
      "\n",
      "          CreditCard  \n",
      "ZIP Code              \n",
      "90               191  \n",
      "91               158  \n",
      "92               288  \n",
      "93               133  \n",
      "94               443  \n",
      "95               246  \n",
      "96                11  \n"
     ]
    },
    {
     "data": {
      "text/plain": [
       "7"
      ]
     },
     "execution_count": 33,
     "metadata": {},
     "output_type": "execute_result"
    }
   ],
   "source": [
    "bank['ZIP Code'] = bank['ZIP Code'].astype(str)\n",
    "bank['ZIP Code'] = bank['ZIP Code'].str[0:2]\n",
    "zip_code = bank.groupby(['ZIP Code'])\n",
    "print(zip_code.sum())\n",
    "bank['ZIP Code'].nunique()"
   ]
  },
  {
   "cell_type": "markdown",
   "metadata": {},
   "source": [
    "Now the ZIP Code types are reduced to: 90,91,92,93,94,95,96."
   ]
  },
  {
   "cell_type": "markdown",
   "metadata": {},
   "source": [
    "## Columns management"
   ]
  },
  {
   "cell_type": "markdown",
   "metadata": {},
   "source": [
    "I have dropped to ID column since it is not relevant for the analysis."
   ]
  },
  {
   "cell_type": "code",
   "execution_count": 34,
   "metadata": {},
   "outputs": [],
   "source": [
    "bank.drop(['ID'],axis=1,inplace=True)"
   ]
  },
  {
   "cell_type": "code",
   "execution_count": 35,
   "metadata": {},
   "outputs": [
    {
     "name": "stdout",
     "output_type": "stream",
     "text": [
      "['CD Account', 'Family', 'CreditCard', 'Securities Account', 'Personal Loan', 'Online', 'ZIP Code', 'Education']\n"
     ]
    }
   ],
   "source": [
    "cols = set(bank.columns)\n",
    "#I consider a group of only columns of int data type\n",
    "cols_numeric = set(['Age', 'Experience', 'Income', 'CCAvg', 'Mortgage'])\n",
    "cols_categorical = list(cols - cols_numeric)\n",
    "print(cols_categorical)\n",
    "#I will select only the categorical columns:\n",
    "bank['Education'] = bank['Education'].astype('category')\n",
    "bank['Family'] = bank['Family'].astype('category')\n",
    "bank['Personal Loan'] = bank['Personal Loan'].astype('category')\n",
    "bank['Securities Account'] = bank['Securities Account'].astype('category')\n",
    "bank['CD Account'] = bank['CD Account'].astype('category')\n",
    "bank['Online'] = bank['Online'].astype('category')\n",
    "bank['CreditCard'] = bank['CreditCard'].astype('category')\n",
    "bank['ZIP Code'] = bank['ZIP Code'].astype('category')\n"
   ]
  },
  {
   "cell_type": "markdown",
   "metadata": {},
   "source": [
    "Machine learning models require all variables to be numeric. My data contains categorical data and I must encode it to numbers before fitting and evaluating a model."
   ]
  },
  {
   "cell_type": "markdown",
   "metadata": {},
   "source": [
    "## Processing Columns"
   ]
  },
  {
   "cell_type": "code",
   "execution_count": 36,
   "metadata": {},
   "outputs": [
    {
     "data": {
      "text/plain": [
       "52"
      ]
     },
     "execution_count": 36,
     "metadata": {},
     "output_type": "execute_result"
    }
   ],
   "source": [
    "bank[\"Experience\"][bank[\"Experience\"]<0].count()"
   ]
  },
  {
   "cell_type": "code",
   "execution_count": 37,
   "metadata": {},
   "outputs": [
    {
     "data": {
      "text/html": [
       "<div>\n",
       "<style scoped>\n",
       "    .dataframe tbody tr th:only-of-type {\n",
       "        vertical-align: middle;\n",
       "    }\n",
       "\n",
       "    .dataframe tbody tr th {\n",
       "        vertical-align: top;\n",
       "    }\n",
       "\n",
       "    .dataframe thead th {\n",
       "        text-align: right;\n",
       "    }\n",
       "</style>\n",
       "<table border=\"1\" class=\"dataframe\">\n",
       "  <thead>\n",
       "    <tr style=\"text-align: right;\">\n",
       "      <th></th>\n",
       "      <th>Age</th>\n",
       "      <th>Experience</th>\n",
       "      <th>Income</th>\n",
       "      <th>ZIP Code</th>\n",
       "      <th>Family</th>\n",
       "      <th>CCAvg</th>\n",
       "      <th>Education</th>\n",
       "      <th>Mortgage</th>\n",
       "      <th>Personal Loan</th>\n",
       "      <th>Securities Account</th>\n",
       "      <th>CD Account</th>\n",
       "      <th>Online</th>\n",
       "      <th>CreditCard</th>\n",
       "    </tr>\n",
       "  </thead>\n",
       "  <tbody>\n",
       "    <tr>\n",
       "      <th>0</th>\n",
       "      <td>25</td>\n",
       "      <td>1</td>\n",
       "      <td>49</td>\n",
       "      <td>91</td>\n",
       "      <td>4</td>\n",
       "      <td>1.6</td>\n",
       "      <td>1</td>\n",
       "      <td>0</td>\n",
       "      <td>0</td>\n",
       "      <td>1</td>\n",
       "      <td>0</td>\n",
       "      <td>0</td>\n",
       "      <td>0</td>\n",
       "    </tr>\n",
       "    <tr>\n",
       "      <th>1</th>\n",
       "      <td>45</td>\n",
       "      <td>19</td>\n",
       "      <td>34</td>\n",
       "      <td>90</td>\n",
       "      <td>3</td>\n",
       "      <td>1.5</td>\n",
       "      <td>1</td>\n",
       "      <td>0</td>\n",
       "      <td>0</td>\n",
       "      <td>1</td>\n",
       "      <td>0</td>\n",
       "      <td>0</td>\n",
       "      <td>0</td>\n",
       "    </tr>\n",
       "    <tr>\n",
       "      <th>2</th>\n",
       "      <td>39</td>\n",
       "      <td>15</td>\n",
       "      <td>11</td>\n",
       "      <td>94</td>\n",
       "      <td>1</td>\n",
       "      <td>1.0</td>\n",
       "      <td>1</td>\n",
       "      <td>0</td>\n",
       "      <td>0</td>\n",
       "      <td>0</td>\n",
       "      <td>0</td>\n",
       "      <td>0</td>\n",
       "      <td>0</td>\n",
       "    </tr>\n",
       "    <tr>\n",
       "      <th>3</th>\n",
       "      <td>35</td>\n",
       "      <td>9</td>\n",
       "      <td>100</td>\n",
       "      <td>94</td>\n",
       "      <td>1</td>\n",
       "      <td>2.7</td>\n",
       "      <td>2</td>\n",
       "      <td>0</td>\n",
       "      <td>0</td>\n",
       "      <td>0</td>\n",
       "      <td>0</td>\n",
       "      <td>0</td>\n",
       "      <td>0</td>\n",
       "    </tr>\n",
       "    <tr>\n",
       "      <th>4</th>\n",
       "      <td>35</td>\n",
       "      <td>8</td>\n",
       "      <td>45</td>\n",
       "      <td>91</td>\n",
       "      <td>4</td>\n",
       "      <td>1.0</td>\n",
       "      <td>2</td>\n",
       "      <td>0</td>\n",
       "      <td>0</td>\n",
       "      <td>0</td>\n",
       "      <td>0</td>\n",
       "      <td>0</td>\n",
       "      <td>1</td>\n",
       "    </tr>\n",
       "  </tbody>\n",
       "</table>\n",
       "</div>"
      ],
      "text/plain": [
       "   Age  Experience  Income ZIP Code Family  CCAvg Education  Mortgage  \\\n",
       "0   25           1      49       91      4    1.6         1         0   \n",
       "1   45          19      34       90      3    1.5         1         0   \n",
       "2   39          15      11       94      1    1.0         1         0   \n",
       "3   35           9     100       94      1    2.7         2         0   \n",
       "4   35           8      45       91      4    1.0         2         0   \n",
       "\n",
       "  Personal Loan Securities Account CD Account Online CreditCard  \n",
       "0             0                  1          0      0          0  \n",
       "1             0                  1          0      0          0  \n",
       "2             0                  0          0      0          0  \n",
       "3             0                  0          0      0          0  \n",
       "4             0                  0          0      0          1  "
      ]
     },
     "execution_count": 37,
     "metadata": {},
     "output_type": "execute_result"
    }
   ],
   "source": [
    "df = bank[bank[\"Experience\"]>=0]\n",
    "df.head()"
   ]
  },
  {
   "cell_type": "markdown",
   "metadata": {},
   "source": [
    "The 'Experience' column refers to the number of years of work experience. There are 52 rows in the dataset that contain negative values. It is not possible for years to have a value smaller than zero, so I will delete those columns from my dataset."
   ]
  },
  {
   "cell_type": "markdown",
   "metadata": {},
   "source": [
    "## Missing Values:"
   ]
  },
  {
   "cell_type": "code",
   "execution_count": 38,
   "metadata": {},
   "outputs": [
    {
     "data": {
      "text/plain": [
       "Age                   0\n",
       "Experience            0\n",
       "Income                0\n",
       "ZIP Code              0\n",
       "Family                0\n",
       "CCAvg                 0\n",
       "Education             0\n",
       "Mortgage              0\n",
       "Personal Loan         0\n",
       "Securities Account    0\n",
       "CD Account            0\n",
       "Online                0\n",
       "CreditCard            0\n",
       "dtype: int64"
      ]
     },
     "execution_count": 38,
     "metadata": {},
     "output_type": "execute_result"
    }
   ],
   "source": [
    "#There are no missing values in the dataset.\n",
    "bank.isna().sum()"
   ]
  },
  {
   "cell_type": "markdown",
   "metadata": {},
   "source": [
    "## Outliers:"
   ]
  },
  {
   "cell_type": "code",
   "execution_count": 39,
   "metadata": {},
   "outputs": [
    {
     "data": {
      "image/png": "[encoded data removed]",
      "text/plain": [
       "<Figure size 1080x2520 with 5 Axes>"
      ]
     },
     "metadata": {},
     "output_type": "display_data"
    }
   ],
   "source": [
    "boxplot = bank.select_dtypes(include=np.number).columns.tolist()\n",
    "plt.figure(figsize=(15,35))\n",
    "for i in range(len(boxplot)):\n",
    "    plt.subplot(10,3,i+1)\n",
    "    sns.boxplot(bank[boxplot[i]],showmeans=True, color='blue')\n",
    "    plt.tight_layout()\n",
    "    plt.title(boxplot[i],fontsize=25)\n",
    "\n",
    "plt.show()"
   ]
  },
  {
   "cell_type": "markdown",
   "metadata": {},
   "source": [
    "Age and Experience are almost normally distributed and look quite similar.\n",
    "As we observe, the three variables CCAvg, Mortgage and income present some outliers.\n",
    "For some costumers, the annual income is greater than 180 dollars.\n",
    "For people who own a mortgage: most of the values are 0 i.e. people decide not to own a mortgage, or they pay less than 100 dollars. There are a lot of outliers who pay more than 250 dollars.\n",
    "The Average spending on credit cards per month is more than 5 dollars for many people."
   ]
  },
  {
   "cell_type": "markdown",
   "metadata": {},
   "source": [
    "The \"interquartile range\" (IQR) represents the width of the box in the boxplot, that is IQR = Q3 – Q1 . The IQR is used as a measure of how spread-out the values are.\n",
    "\n",
    "The IQR tells how some of the other values are \"too far\" from the central value. These outliers are outside the range in which we expect them.\n",
    "If a data point is below Q1 – 1.5×IQR or above Q3 + 1.5×IQR, it is viewed as being too far from the central values to be reasonable. \n"
   ]
  },
  {
   "cell_type": "code",
   "execution_count": 40,
   "metadata": {},
   "outputs": [],
   "source": [
    "def outliers(df,col):\n",
    "   \n",
    "    Q1 = df[col].quantile(0.25) #25th quantile\n",
    "    Q3 = df[col].quantile(0.75)  #75th quantile\n",
    "    IQR = Q3-Q1\n",
    "    #This plots are also called Whisker Graph.\n",
    "    Lower_Whisker = Q1 - 1.5*IQR \n",
    "    Upper_Whisker = Q3 + 1.5*IQR\n",
    "    df[col] = np.clip(df[col], Lower_Whisker, Upper_Whisker) #the values smaller than Lower_Whisker will be assigned to Lower_whisker's value \n",
    "                                                            #the values above upper_whisker will be assigned to upper_Whisker's value. It is like the behavior of the boxplot,\n",
    "                                                             #all the values that are outside the two final whiskers of the boxplot are assigned to Upper or Lower Whisker.\n",
    "    return df\n",
    "\n",
    "def all_outliers(df, col_list): #\n",
    "    for c in col_list:\n",
    "        df = outliers(df,c)\n",
    "    return df "
   ]
  },
  {
   "cell_type": "code",
   "execution_count": 41,
   "metadata": {},
   "outputs": [],
   "source": [
    "no_outliers = {'Age','Experience'} #These two variables do not have outliers\n",
    "col_with_outliers = [el for el in boxplot if el not in no_outliers] \n",
    "#Applying outlier treatment\n",
    "bank = all_outliers(bank,col_with_outliers)"
   ]
  },
  {
   "cell_type": "code",
   "execution_count": 42,
   "metadata": {},
   "outputs": [
    {
     "data": {
      "image/png": "[encoded data removed]",
      "text/plain": [
       "<Figure size 1080x2520 with 5 Axes>"
      ]
     },
     "metadata": {},
     "output_type": "display_data"
    }
   ],
   "source": [
    "boxplot = bank.select_dtypes(include=np.number).columns.tolist()\n",
    "plt.figure(figsize=(15,35))\n",
    "for i in range(len(boxplot)):\n",
    "    plt.subplot(10,3,i+1)\n",
    "    sns.boxplot(bank[boxplot[i]],showmeans=True, color='blue')\n",
    "    plt.tight_layout()\n",
    "    plt.title(boxplot[i],fontsize=25)\n",
    "\n",
    "plt.show()"
   ]
  },
  {
   "cell_type": "code",
   "execution_count": 44,
   "metadata": {},
   "outputs": [
    {
     "ename": "KeyError",
     "evalue": "'Personal Loan'",
     "output_type": "error",
     "traceback": [
      "\u001b[1;31m---------------------------------------------------------------------------\u001b[0m",
      "\u001b[1;31mKeyError\u001b[0m                                  Traceback (most recent call last)",
      "\u001b[1;32m~\\anaconda3\\lib\\site-packages\\pandas\\core\\indexes\\base.py\u001b[0m in \u001b[0;36mget_loc\u001b[1;34m(self, key, method, tolerance)\u001b[0m\n\u001b[0;32m   2894\u001b[0m             \u001b[1;32mtry\u001b[0m\u001b[1;33m:\u001b[0m\u001b[1;33m\u001b[0m\u001b[1;33m\u001b[0m\u001b[0m\n\u001b[1;32m-> 2895\u001b[1;33m                 \u001b[1;32mreturn\u001b[0m \u001b[0mself\u001b[0m\u001b[1;33m.\u001b[0m\u001b[0m_engine\u001b[0m\u001b[1;33m.\u001b[0m\u001b[0mget_loc\u001b[0m\u001b[1;33m(\u001b[0m\u001b[0mcasted_key\u001b[0m\u001b[1;33m)\u001b[0m\u001b[1;33m\u001b[0m\u001b[1;33m\u001b[0m\u001b[0m\n\u001b[0m\u001b[0;32m   2896\u001b[0m             \u001b[1;32mexcept\u001b[0m \u001b[0mKeyError\u001b[0m \u001b[1;32mas\u001b[0m \u001b[0merr\u001b[0m\u001b[1;33m:\u001b[0m\u001b[1;33m\u001b[0m\u001b[1;33m\u001b[0m\u001b[0m\n",
      "\u001b[1;32mpandas\\_libs\\index.pyx\u001b[0m in \u001b[0;36mpandas._libs.index.IndexEngine.get_loc\u001b[1;34m()\u001b[0m\n",
      "\u001b[1;32mpandas\\_libs\\index.pyx\u001b[0m in \u001b[0;36mpandas._libs.index.IndexEngine.get_loc\u001b[1;34m()\u001b[0m\n",
      "\u001b[1;32mpandas\\_libs\\hashtable_class_helper.pxi\u001b[0m in \u001b[0;36mpandas._libs.hashtable.PyObjectHashTable.get_item\u001b[1;34m()\u001b[0m\n",
      "\u001b[1;32mpandas\\_libs\\hashtable_class_helper.pxi\u001b[0m in \u001b[0;36mpandas._libs.hashtable.PyObjectHashTable.get_item\u001b[1;34m()\u001b[0m\n",
      "\u001b[1;31mKeyError\u001b[0m: 'Personal Loan'",
      "\nThe above exception was the direct cause of the following exception:\n",
      "\u001b[1;31mKeyError\u001b[0m                                  Traceback (most recent call last)",
      "\u001b[1;32m<ipython-input-44-829ff6515757>\u001b[0m in \u001b[0;36m<module>\u001b[1;34m\u001b[0m\n\u001b[0;32m      2\u001b[0m \u001b[1;31m#which corresponds to the number of views of a video.\u001b[0m\u001b[1;33m\u001b[0m\u001b[1;33m\u001b[0m\u001b[1;33m\u001b[0m\u001b[0m\n\u001b[0;32m      3\u001b[0m \u001b[0mcorrelation_matrix\u001b[0m \u001b[1;33m=\u001b[0m \u001b[0mbank\u001b[0m\u001b[1;33m.\u001b[0m\u001b[0mcorr\u001b[0m\u001b[1;33m(\u001b[0m\u001b[1;33m)\u001b[0m\u001b[1;33m\u001b[0m\u001b[1;33m\u001b[0m\u001b[0m\n\u001b[1;32m----> 4\u001b[1;33m \u001b[0mcorrelation_matrix\u001b[0m\u001b[1;33m[\u001b[0m\u001b[1;34m'Personal Loan'\u001b[0m\u001b[1;33m]\u001b[0m\u001b[1;33m\u001b[0m\u001b[1;33m\u001b[0m\u001b[0m\n\u001b[0m",
      "\u001b[1;32m~\\anaconda3\\lib\\site-packages\\pandas\\core\\frame.py\u001b[0m in \u001b[0;36m__getitem__\u001b[1;34m(self, key)\u001b[0m\n\u001b[0;32m   2900\u001b[0m             \u001b[1;32mif\u001b[0m \u001b[0mself\u001b[0m\u001b[1;33m.\u001b[0m\u001b[0mcolumns\u001b[0m\u001b[1;33m.\u001b[0m\u001b[0mnlevels\u001b[0m \u001b[1;33m>\u001b[0m \u001b[1;36m1\u001b[0m\u001b[1;33m:\u001b[0m\u001b[1;33m\u001b[0m\u001b[1;33m\u001b[0m\u001b[0m\n\u001b[0;32m   2901\u001b[0m                 \u001b[1;32mreturn\u001b[0m \u001b[0mself\u001b[0m\u001b[1;33m.\u001b[0m\u001b[0m_getitem_multilevel\u001b[0m\u001b[1;33m(\u001b[0m\u001b[0mkey\u001b[0m\u001b[1;33m)\u001b[0m\u001b[1;33m\u001b[0m\u001b[1;33m\u001b[0m\u001b[0m\n\u001b[1;32m-> 2902\u001b[1;33m             \u001b[0mindexer\u001b[0m \u001b[1;33m=\u001b[0m \u001b[0mself\u001b[0m\u001b[1;33m.\u001b[0m\u001b[0mcolumns\u001b[0m\u001b[1;33m.\u001b[0m\u001b[0mget_loc\u001b[0m\u001b[1;33m(\u001b[0m\u001b[0mkey\u001b[0m\u001b[1;33m)\u001b[0m\u001b[1;33m\u001b[0m\u001b[1;33m\u001b[0m\u001b[0m\n\u001b[0m\u001b[0;32m   2903\u001b[0m             \u001b[1;32mif\u001b[0m \u001b[0mis_integer\u001b[0m\u001b[1;33m(\u001b[0m\u001b[0mindexer\u001b[0m\u001b[1;33m)\u001b[0m\u001b[1;33m:\u001b[0m\u001b[1;33m\u001b[0m\u001b[1;33m\u001b[0m\u001b[0m\n\u001b[0;32m   2904\u001b[0m                 \u001b[0mindexer\u001b[0m \u001b[1;33m=\u001b[0m \u001b[1;33m[\u001b[0m\u001b[0mindexer\u001b[0m\u001b[1;33m]\u001b[0m\u001b[1;33m\u001b[0m\u001b[1;33m\u001b[0m\u001b[0m\n",
      "\u001b[1;32m~\\anaconda3\\lib\\site-packages\\pandas\\core\\indexes\\base.py\u001b[0m in \u001b[0;36mget_loc\u001b[1;34m(self, key, method, tolerance)\u001b[0m\n\u001b[0;32m   2895\u001b[0m                 \u001b[1;32mreturn\u001b[0m \u001b[0mself\u001b[0m\u001b[1;33m.\u001b[0m\u001b[0m_engine\u001b[0m\u001b[1;33m.\u001b[0m\u001b[0mget_loc\u001b[0m\u001b[1;33m(\u001b[0m\u001b[0mcasted_key\u001b[0m\u001b[1;33m)\u001b[0m\u001b[1;33m\u001b[0m\u001b[1;33m\u001b[0m\u001b[0m\n\u001b[0;32m   2896\u001b[0m             \u001b[1;32mexcept\u001b[0m \u001b[0mKeyError\u001b[0m \u001b[1;32mas\u001b[0m \u001b[0merr\u001b[0m\u001b[1;33m:\u001b[0m\u001b[1;33m\u001b[0m\u001b[1;33m\u001b[0m\u001b[0m\n\u001b[1;32m-> 2897\u001b[1;33m                 \u001b[1;32mraise\u001b[0m \u001b[0mKeyError\u001b[0m\u001b[1;33m(\u001b[0m\u001b[0mkey\u001b[0m\u001b[1;33m)\u001b[0m \u001b[1;32mfrom\u001b[0m \u001b[0merr\u001b[0m\u001b[1;33m\u001b[0m\u001b[1;33m\u001b[0m\u001b[0m\n\u001b[0m\u001b[0;32m   2898\u001b[0m \u001b[1;33m\u001b[0m\u001b[0m\n\u001b[0;32m   2899\u001b[0m         \u001b[1;32mif\u001b[0m \u001b[0mtolerance\u001b[0m \u001b[1;32mis\u001b[0m \u001b[1;32mnot\u001b[0m \u001b[1;32mNone\u001b[0m\u001b[1;33m:\u001b[0m\u001b[1;33m\u001b[0m\u001b[1;33m\u001b[0m\u001b[0m\n",
      "\u001b[1;31mKeyError\u001b[0m: 'Personal Loan'"
     ]
    }
   ],
   "source": [
    "#It is possible to notice the degree of correlation of the variables with the target variable Y\n",
    "\n",
    "correlation_matrix = bank.corr()\n",
    "correlation_matrix['Personal Loan']"
   ]
  },
  {
   "cell_type": "markdown",
   "metadata": {},
   "source": [
    "By drawing the Plots again we can see that there are no more outliers and all values, for example for the mortgage, have been assigned between 0 and 100 dollars. The income values are assigned between 50 and 100 dollars. The CCAvg between 1 and 3."
   ]
  },
  {
   "cell_type": "code",
   "execution_count": 18,
   "metadata": {},
   "outputs": [],
   "source": [
    "bank_with_Y_N = bank.copy(deep=True) \n",
    "#Copy() function returns a copy of the DataFrame. 'Deep' attribute is True by default, which means that \n",
    "#any changes made to the copy will not be reflected in the original DataFrame.\n",
    "bank_with_Y_N['Personal Loan'] = bank['Personal Loan'].replace({0: \"No\", 1:\"Yes\"})"
   ]
  },
  {
   "cell_type": "markdown",
   "metadata": {},
   "source": [
    "I have renamed the 0 to 'No' and the 1 to 'Yes' for easier interpretation of the graphs."
   ]
  },
  {
   "cell_type": "code",
   "execution_count": 19,
   "metadata": {},
   "outputs": [
    {
     "name": "stdout",
     "output_type": "stream",
     "text": [
      "      Age  Experience  Income ZIP Code Family  CCAvg Education  Mortgage  \\\n",
      "0      25           1    49.0       91      4    1.6         1       0.0   \n",
      "1      45          19    34.0       90      3    1.5         1       0.0   \n",
      "2      39          15    11.0       94      1    1.0         1       0.0   \n",
      "3      35           9   100.0       94      1    2.7         2       0.0   \n",
      "4      35           8    45.0       91      4    1.0         2       0.0   \n",
      "...   ...         ...     ...      ...    ...    ...       ...       ...   \n",
      "4995   29           3    40.0       92      1    1.9         3       0.0   \n",
      "4996   30           4    15.0       92      4    0.4         1      85.0   \n",
      "4997   63          39    24.0       93      2    0.3         3       0.0   \n",
      "4998   65          40    49.0       90      3    0.5         2       0.0   \n",
      "4999   28           4    83.0       92      3    0.8         1       0.0   \n",
      "\n",
      "     Personal Loan Securities Account CD Account Online CreditCard  \n",
      "0               No                  1          0      0          0  \n",
      "1               No                  1          0      0          0  \n",
      "2               No                  0          0      0          0  \n",
      "3               No                  0          0      0          0  \n",
      "4               No                  0          0      0          1  \n",
      "...            ...                ...        ...    ...        ...  \n",
      "4995            No                  0          0      1          0  \n",
      "4996            No                  0          0      1          0  \n",
      "4997            No                  0          0      0          0  \n",
      "4998            No                  0          0      1          0  \n",
      "4999            No                  0          0      1          1  \n",
      "\n",
      "[5000 rows x 13 columns]\n"
     ]
    }
   ],
   "source": [
    "bank_with_Y_N.value_counts()\n",
    "print(bank_with_Y_N)"
   ]
  },
  {
   "cell_type": "code",
   "execution_count": 20,
   "metadata": {},
   "outputs": [],
   "source": [
    "def probability_plot(var):\n",
    "    sns.set(palette='pastel') #set the clours\n",
    "    tab1 = pd.crosstab(var , bank_with_Y_N['Personal Loan'], margins=True)\n",
    "    print(tab1)\n",
    "    print('-'*120)\n",
    "    tab = pd.crosstab(var, bank_with_Y_N['Personal Loan'],normalize='index')\n",
    "    tab.plot(kind='bar',stacked=True,figsize=(10,5))\n",
    "    plt.legend(loc='lower left', frameon=True)\n",
    "    plt.legend(loc=\"upper left\", bbox_to_anchor=(1,1))\n",
    "    plt.ylabel('Percentage')\n",
    "    plt.show()"
   ]
  },
  {
   "cell_type": "code",
   "execution_count": 21,
   "metadata": {},
   "outputs": [
    {
     "name": "stdout",
     "output_type": "stream",
     "text": [
      "Personal Loan    No  Yes   All\n",
      "Family                        \n",
      "1              1365  107  1472\n",
      "2              1190  106  1296\n",
      "3               877  133  1010\n",
      "4              1088  134  1222\n",
      "All            4520  480  5000\n",
      "------------------------------------------------------------------------------------------------------------------------\n"
     ]
    },
    {
     "data": {
      "image/png": "[encoded data removed]",
      "text/plain": [
       "<Figure size 720x360 with 1 Axes>"
      ]
     },
     "metadata": {},
     "output_type": "display_data"
    }
   ],
   "source": [
    "probability_plot(bank_with_Y_N['Family'])"
   ]
  },
  {
   "cell_type": "markdown",
   "metadata": {},
   "source": [
    "It is interesting to plot on the x-axis each variable from the dataset, because for example, for 'Education' there are 3 levels, so you can see how many people, in the 3 levels, have said Yes to the campaign or No. It is interesting to understand how much the parameters are related to our variable y. One of the three levels may be more likely to answer Yes rather than No. The first type of family is more likely to choose NO: the light-blue coloured bar is the highest compared to the other types of families."
   ]
  },
  {
   "cell_type": "markdown",
   "metadata": {},
   "source": [
    "### Model Evaluation \n",
    "A model can make two kinds of wrong predictions:\n",
    "\n",
    "1. Wrongly Identify customers as loan borrowers but they are not - False Positive;\n",
    "2. Wrongly identifying customers as not borrowers but they actually buy loans - False Negative.\n",
    "\n",
    "#### Creating a Confusion Matrix\n",
    "The confusion matrix is a table with 4 different combinations of predicted and actual values.\n",
    "\n",
    "It is extremely useful for measuring Recall, Precision, Specificity, Accuracy.\n",
    "We have 4 possibilities TP, FP, FN, TN:\n",
    "\n",
    "* True Positive: I have predicted positive(Yes or 1) and it’s true;\n",
    "* True Negative: I have predicted negative and it is true;\n",
    "* False Positive: I have predicted positive and it is false;\n",
    "* False Negative: I have predicted negative and it is false.\n"
   ]
  },
  {
   "cell_type": "code",
   "execution_count": 22,
   "metadata": {},
   "outputs": [],
   "source": [
    "#Defining a function for Confusion matrix\n",
    "from sklearn.metrics import classification_report,confusion_matrix\n",
    "sns.set(font_scale=2.0) # to set font size for the matrix\n",
    "def view_confusion_matrix(y_actual,y_predict):\n",
    "\n",
    "    cm = confusion_matrix(y_actual,y_predict)\n",
    "    group_names = ['True Negative','False Positive','False Negative','True Positive']\n",
    "    group_counts = [\"{0:0.0f}\".format(value) for value in\n",
    "                cm.flatten()]   #we can flatten a matrix to one dimension.\n",
    "    group_percentages = [\"{0:.2%}\".format(value) for value in\n",
    "                         cm.flatten()/np.sum(cm)]\n",
    "    labels = [f\"{v1}\\n{v2}\\n{v3}\" for v1, v2,v3 in\n",
    "              zip(group_names,group_counts,group_percentages)]\n",
    "    labels = np.asarray(labels).reshape(2,2)\n",
    "    plt.figure(figsize = (10,7))\n",
    "    #Choose label and colours\n",
    "    sns.heatmap(cm, annot=labels, fmt='',cmap='Pastel1_r')\n",
    "    plt.ylabel('Truth label')\n",
    "    plt.xlabel('Predicted label')"
   ]
  },
  {
   "cell_type": "markdown",
   "metadata": {},
   "source": [
    "## First Model - Logistic Regression:\n"
   ]
  },
  {
   "cell_type": "code",
   "execution_count": 23,
   "metadata": {},
   "outputs": [],
   "source": [
    "#Importing all necessary libraries\n",
    "from sklearn.model_selection import train_test_split\n",
    "from sklearn import linear_model\n",
    "from sklearn import metrics #accuracy,confusion metrics, etc\n",
    "from sklearn.linear_model import LogisticRegression\n",
    "from sklearn import datasets\n",
    "from sklearn.metrics import accuracy_score,precision_score,recall_score,f1_score\n",
    "from statsmodels.stats.outliers_influence import variance_inflation_factor\n",
    "#!pip install scipy --upgrade\n",
    "#import statsmodels.api as sm\n"
   ]
  },
  {
   "cell_type": "markdown",
   "metadata": {},
   "source": [
    "# LOGISTIC REGRESSION\n"
   ]
  },
  {
   "cell_type": "code",
   "execution_count": 24,
   "metadata": {},
   "outputs": [],
   "source": [
    "plt.rc(\"font\", size=14)\n",
    "from sklearn.linear_model import LogisticRegression\n",
    "from sklearn.model_selection import train_test_split\n",
    "import seaborn as sns\n",
    "sns.set(style=\"white\")\n",
    "sns.set(style=\"whitegrid\", color_codes=True)"
   ]
  },
  {
   "cell_type": "code",
   "execution_count": 25,
   "metadata": {},
   "outputs": [],
   "source": [
    "## Defining X and Y variables\n",
    "X = bank.drop(['Personal Loan'], axis=1) #dropping the dependent variable\n",
    "Y = bank[['Personal Loan']]\n",
    "X = pd.get_dummies(X, drop_first=True)  \n",
    "\n",
    "#One-hot Encoding is a type of vector representation in which all of the elements in a vector are 0, except for one,\n",
    "#which has 1 as its value, where 1 represents a boolean specifying a category of the element."
   ]
  },
  {
   "cell_type": "code",
   "execution_count": 26,
   "metadata": {},
   "outputs": [
    {
     "name": "stdout",
     "output_type": "stream",
     "text": [
      "(3500, 20) (1500, 20)\n"
     ]
    },
    {
     "data": {
      "text/plain": [
       "LogisticRegression()"
      ]
     },
     "execution_count": 26,
     "metadata": {},
     "output_type": "execute_result"
    }
   ],
   "source": [
    "from sklearn.model_selection import train_test_split\n",
    "X_train, X_test, y_train, y_test = train_test_split(X, Y, test_size=0.30, random_state=29)\n",
    "print(X_train.shape,X_test.shape)\n",
    "logreg = LogisticRegression()\n",
    "logreg.fit(X_train, y_train)"
   ]
  },
  {
   "cell_type": "code",
   "execution_count": 27,
   "metadata": {},
   "outputs": [],
   "source": [
    "y_prediction = logreg.predict(X_test) #Make predictions on entire test data"
   ]
  },
  {
   "cell_type": "code",
   "execution_count": 28,
   "metadata": {},
   "outputs": [
    {
     "data": {
      "image/png": "[encoded data removed]",
      "text/plain": [
       "<Figure size 720x504 with 2 Axes>"
      ]
     },
     "metadata": {},
     "output_type": "display_data"
    }
   ],
   "source": [
    "view_confusion_matrix(y_test,y_prediction)"
   ]
  },
  {
   "cell_type": "markdown",
   "metadata": {},
   "source": [
    "The confusion matrix:\n",
    "\n",
    "* 1352 the matrix has guessed that people were passive customers and they actually were;\n",
    "\n",
    "* 11 times it has predicted people were active customers but they were passive;\n",
    "\n",
    "* 49 times it has predicted people were passive costumers but they were active customers;\n",
    "\n",
    "* 88 times the matrix has guessed by saying that people were active custmers and they actually were.\n",
    "\n"
   ]
  },
  {
   "cell_type": "code",
   "execution_count": 29,
   "metadata": {},
   "outputs": [
    {
     "name": "stdout",
     "output_type": "stream",
     "text": [
      "Accuracy on training set :  0.9597142857142857\n",
      "Accuracy on test set :  0.96\n",
      "\n",
      "Recall on training set :  0.6938775510204082\n",
      "Recall on test set :  0.6423357664233577\n",
      "\n",
      "Precision on training set :  0.8686131386861314\n",
      "Precision on test set :  0.8888888888888888\n",
      "\n",
      "F1 on training set :  0.7714748784440844\n",
      "F1 on test set :  0.7457627118644067\n"
     ]
    }
   ],
   "source": [
    "def scores(model):\n",
    "    y_pred_train = model.predict(X_train)\n",
    "    y_pred_test = model.predict(X_test)\n",
    "    \n",
    "    print(\"Accuracy on training set : \",metrics.accuracy_score(y_train,y_pred_train))\n",
    "    print(\"Accuracy on test set : \",metrics.accuracy_score(y_test,y_pred_test))\n",
    "\n",
    "    print(\"\\nRecall on training set : \",metrics.recall_score(y_train,y_pred_train))\n",
    "    print(\"Recall on test set : \",metrics.recall_score(y_test,y_pred_test))\n",
    "    \n",
    "    print(\"\\nPrecision on training set : \",metrics.precision_score(y_train,y_pred_train))\n",
    "    print(\"Precision on test set : \",metrics.precision_score(y_test,y_pred_test))\n",
    "    \n",
    "    print(\"\\nF1 on training set : \",metrics.f1_score(y_train,y_pred_train))\n",
    "    print(\"F1 on test set : \",metrics.f1_score(y_test,y_pred_test))\n",
    "\n",
    "scores(logreg)"
   ]
  },
  {
   "cell_type": "markdown",
   "metadata": {},
   "source": [
    "The Logistic Regression model has good accuracy by poor Recall values:\n",
    "* Recall on training set :  0.6938775510204082\n",
    "* Recall on test set :  0.6423357664233577.\n",
    "\n"
   ]
  },
  {
   "cell_type": "markdown",
   "metadata": {},
   "source": [
    "### Logistic Regression Using Stats Model:"
   ]
  },
  {
   "cell_type": "markdown",
   "metadata": {},
   "source": [
    "Statsmodels provides various functions for estimating different statistical models and performing statistical tests.\n",
    "We have to follow these steps:\n",
    "First, we define the set of dependent and independent variables. If the dependent variable is in non-numeric form, it is first converted to numeric using dummies. \n",
    "Statsmodels provides a Logit() function for performing logistic regression. The Logit() function accepts y and X as parameters and returns the Logit object."
   ]
  },
  {
   "cell_type": "code",
   "execution_count": 30,
   "metadata": {},
   "outputs": [],
   "source": [
    "#Libraries required\n",
    "#!pip install --upgrade --no-deps statsmodels\n",
    "#!pip3 install Literal\n",
    "#!pip install typing_extensions#\n",
    "#!pip3 uninstall statsmodels\n",
    "#!pip3 install numpy scipy patsy pandas\n",
    "#!pip install numpy scipy patsy pandas\n",
    "#!pip install statsmodels\n",
    "\n",
    "from typing import Literal\n",
    "import statsmodels\n",
    "import statsmodels.api as sm\n",
    "import statsmodels.formula.api as smf"
   ]
  },
  {
   "cell_type": "code",
   "execution_count": 31,
   "metadata": {},
   "outputs": [
    {
     "name": "stdout",
     "output_type": "stream",
     "text": [
      "Optimization terminated successfully.\n",
      "         Current function value: 0.106585\n",
      "         Iterations 11\n"
     ]
    },
    {
     "data": {
      "image/png": "[encoded data removed]",
      "text/plain": [
       "<Figure size 720x504 with 2 Axes>"
      ]
     },
     "metadata": {},
     "output_type": "display_data"
    }
   ],
   "source": [
    "logit = sm.Logit(y_train, X_train) #logistic regression\n",
    "lg = logit.fit(warn_convergence =False) \n",
    "yhat = lg.predict(X_test)\n",
    "prediction = list(map(round, yhat))\n",
    "view_confusion_matrix(y_test,prediction)\n"
   ]
  },
  {
   "cell_type": "markdown",
   "metadata": {},
   "source": [
    "The confusion matrix:\n",
    "* 1352 the matrix has guessed that people were passive customers and they actually were;\n",
    "* 11 times it has predicted people were active customers but they were passive;\n",
    "\n",
    "* 46 times it has predicted people were passive costumers but they were active customers;\n",
    "* 91 times the matrix has guessed by saying that people were active custmers and they actually were.\n",
    "\n"
   ]
  },
  {
   "cell_type": "code",
   "execution_count": 32,
   "metadata": {},
   "outputs": [],
   "source": [
    "pred = lg.predict(X_train)\n",
    "pred_train = list(map(round,pred))\n",
    "pred1 = lg.predict(X_test)\n",
    "pred_test = list(map(round,pred1))"
   ]
  },
  {
   "cell_type": "code",
   "execution_count": 33,
   "metadata": {},
   "outputs": [
    {
     "name": "stdout",
     "output_type": "stream",
     "text": [
      "Accuracy on training set :  0.9631428571428572\n",
      "Accuracy on test set :  0.962\n",
      "Recall on training set :  0.7201166180758017\n",
      "Recall on test set :  0.6642335766423357\n",
      "Precision on training set :  0.8821428571428571\n",
      "Precision on test set :  0.8921568627450981\n",
      "F1 on training set :  0.7929373996789727\n",
      "F1 on test set :  0.7615062761506275\n"
     ]
    }
   ],
   "source": [
    "print(\"Accuracy on training set : \",accuracy_score(y_train,pred_train))\n",
    "print(\"Accuracy on test set : \",accuracy_score(y_test,pred_test))\n",
    "print(\"Recall on training set : \",recall_score(y_train,pred_train))\n",
    "print(\"Recall on test set : \",recall_score(y_test,pred_test))\n",
    "print(\"Precision on training set : \",precision_score(y_train,pred_train))\n",
    "print(\"Precision on test set : \",precision_score(y_test ,pred_test))\n",
    "print(\"F1 on training set : \",f1_score(y_train,pred_train))\n",
    "print(\"F1 on test set : \",f1_score(y_test,pred_test))"
   ]
  },
  {
   "cell_type": "markdown",
   "metadata": {},
   "source": [
    "The confusion matrix has improved, successfully predicting correctlty 3 more of the observations in the dataset. "
   ]
  },
  {
   "cell_type": "markdown",
   "metadata": {},
   "source": [
    "# NEURAL NETWORK\n"
   ]
  },
  {
   "cell_type": "markdown",
   "metadata": {},
   "source": [
    "Neural networks predict cases using a mathematical equation, where the output is the weighted sum of the inputs, after passing through the hidden layers. In each hidden unit the net input is passed through an activation function. \n",
    "Standardize features by removing the mean and scaling to unit variance.\n",
    "Standardization of a dataset is a common requirement for many machine learning estimators: they might behave badly if the individual features do not more or less look like standard normally distributed data.\n"
   ]
  },
  {
   "cell_type": "code",
   "execution_count": 34,
   "metadata": {},
   "outputs": [
    {
     "name": "stdout",
     "output_type": "stream",
     "text": [
      "(3500, 20)\n",
      "(3500, 1)\n",
      "(1500, 20)\n",
      "(1500, 1)\n"
     ]
    }
   ],
   "source": [
    "from sklearn.preprocessing import StandardScaler\n",
    "PredictorScaler=StandardScaler()\n",
    "TargetVarScaler=StandardScaler()\n",
    " \n",
    "#Fitting object\n",
    "PredictorScalerFit=PredictorScaler.fit(X)\n",
    "TargetVarScalerFit=TargetVarScaler.fit(Y)\n",
    " \n",
    "#Generating the standardized values of X and y\n",
    "X = PredictorScalerFit.transform(X)\n",
    "y = TargetVarScalerFit.transform(Y)\n",
    " \n",
    "#Split the data into training and testing set\n",
    "from sklearn.model_selection import train_test_split\n",
    "X_train, X_test, y_train, y_test = train_test_split(X, Y, test_size=0.3, random_state=42)\n",
    " \n",
    "#Check with the shapes of Training and testing datasets\n",
    "print(X_train.shape)\n",
    "print(y_train.shape)\n",
    "print(X_test.shape)\n",
    "print(y_test.shape)"
   ]
  },
  {
   "cell_type": "code",
   "execution_count": 35,
   "metadata": {},
   "outputs": [],
   "source": [
    "#!pip install tensorflow\n",
    "#!pip install keras"
   ]
  },
  {
   "cell_type": "markdown",
   "metadata": {},
   "source": [
    "I want to have these levels:\n",
    "\n",
    "-Hidden level 1: 5 neurons, ReLU activation;\n",
    "\n",
    "-Hidden level 2: 5 neurons, Tanh activation;\n",
    "\n",
    "-Hidden level 3: 1 neurons;"
   ]
  },
  {
   "cell_type": "code",
   "execution_count": 36,
   "metadata": {},
   "outputs": [
    {
     "name": "stdout",
     "output_type": "stream",
     "text": [
      "Epoch 1/20\n",
      "175/175 [==============================] - 16s 1ms/step - loss: 0.4109 - accuracy: 0.9083\n",
      "Epoch 2/20\n",
      "175/175 [==============================] - 0s 1ms/step - loss: 0.2311 - accuracy: 0.9050\n",
      "Epoch 3/20\n",
      "175/175 [==============================] - 0s 1ms/step - loss: 0.1566 - accuracy: 0.9384\n",
      "Epoch 4/20\n",
      "175/175 [==============================] - 0s 1ms/step - loss: 0.1377 - accuracy: 0.9592\n",
      "Epoch 5/20\n",
      "175/175 [==============================] - ETA: 0s - loss: 0.1401 - accuracy: 0.96 - 0s 1ms/step - loss: 0.1408 - accuracy: 0.9608\n",
      "Epoch 6/20\n",
      "175/175 [==============================] - 0s 1ms/step - loss: 0.1399 - accuracy: 0.9573\n",
      "Epoch 7/20\n",
      "175/175 [==============================] - 0s 1ms/step - loss: 0.1338 - accuracy: 0.9643\n",
      "Epoch 8/20\n",
      "175/175 [==============================] - 0s 1ms/step - loss: 0.1685 - accuracy: 0.9562\n",
      "Epoch 9/20\n",
      "175/175 [==============================] - 0s 1ms/step - loss: 0.1038 - accuracy: 0.9643\n",
      "Epoch 10/20\n",
      "175/175 [==============================] - 0s 1ms/step - loss: 0.1009 - accuracy: 0.9662\n",
      "Epoch 11/20\n",
      "175/175 [==============================] - 0s 1ms/step - loss: 0.1386 - accuracy: 0.9675\n",
      "Epoch 12/20\n",
      "175/175 [==============================] - 0s 986us/step - loss: 0.0998 - accuracy: 0.9728\n",
      "Epoch 13/20\n",
      "175/175 [==============================] - 0s 1ms/step - loss: 0.1254 - accuracy: 0.9667\n",
      "Epoch 14/20\n",
      "175/175 [==============================] - 0s 1ms/step - loss: 0.1102 - accuracy: 0.9732\n",
      "Epoch 15/20\n",
      "175/175 [==============================] - 0s 1ms/step - loss: 0.1040 - accuracy: 0.9749\n",
      "Epoch 16/20\n",
      "175/175 [==============================] - 0s 1ms/step - loss: 0.1162 - accuracy: 0.9721\n",
      "Epoch 17/20\n",
      "175/175 [==============================] - 0s 1ms/step - loss: 0.0857 - accuracy: 0.9761\n",
      "Epoch 18/20\n",
      "175/175 [==============================] - 0s 1ms/step - loss: 0.0861 - accuracy: 0.9783\n",
      "Epoch 19/20\n",
      "175/175 [==============================] - 0s 1ms/step - loss: 0.1384 - accuracy: 0.9669\n",
      "Epoch 20/20\n",
      "175/175 [==============================] - 0s 986us/step - loss: 0.1103 - accuracy: 0.9731\n"
     ]
    },
    {
     "data": {
      "text/plain": [
       "<keras.callbacks.History at 0x2c11b8968e0>"
      ]
     },
     "execution_count": 36,
     "metadata": {},
     "output_type": "execute_result"
    }
   ],
   "source": [
    "from keras.models import Sequential\n",
    "from keras.layers import Dense\n",
    " \n",
    "# create ANN model\n",
    "model = Sequential()\n",
    " \n",
    "#First hidden layer: it is a dense layer with 5 neurons, the ReLU is the activation and the\n",
    "#input depends on the input functions.\n",
    "model.add(Dense(units=5,input_shape=(X_train.shape[1],) , kernel_initializer='normal', activation='relu'))\n",
    "\n",
    "#Second layer of the model: it is a dense layer with 5 neurons, the tanh is the  activation function\n",
    "model.add(Dense(units=5, input_shape=(X_train.shape[1],), kernel_initializer='normal', activation='tanh'))\n",
    " \n",
    "#Third hidden layer\n",
    "model.add(Dense(1,input_shape=(X_train.shape[1],), kernel_initializer='normal'))\n",
    "\n",
    "#Compiling the model\n",
    "model.compile(optimizer ='adam', loss='binary_crossentropy', metrics =['accuracy'])\n",
    "\n",
    "#Fitting the ANN to the Training set\n",
    "model.fit(X_train, y_train ,batch_size = 20, epochs = 20)"
   ]
  },
  {
   "cell_type": "markdown",
   "metadata": {},
   "source": [
    "Before starting the training, I have to configure the model for\n",
    "tell him which algorithm use to perform the optimization, which loss function to use, and what other metrics to monitor in addition to the loss function.\n",
    "\n",
    "Configuring the model requires calling the model.compile function:\n",
    "\n",
    "optimizer = 'sgd'\n",
    "\n",
    "'sgd' refers to the descent of the stochastic gradient.\n",
    "\n",
    "loss = 'binary_crossentropy'\n",
    "\n",
    "The loss function for outputs taking the values 1 or 0 is called binary cross entropy.\n",
    "\n",
    "metrics = ['accuracy']\n",
    "\n",
    "Accuracy monitoring in addition to the leak function."
   ]
  },
  {
   "cell_type": "code",
   "execution_count": 37,
   "metadata": {},
   "outputs": [
    {
     "name": "stdout",
     "output_type": "stream",
     "text": [
      "Epoch 1/100\n",
      "110/110 [==============================] - 2s 11ms/step - loss: 0.0965 - accuracy: 0.9789 - val_loss: 0.0974 - val_accuracy: 0.9780\n",
      "Epoch 2/100\n",
      "110/110 [==============================] - 0s 2ms/step - loss: 0.0946 - accuracy: 0.9783 - val_loss: 0.0956 - val_accuracy: 0.9793\n",
      "Epoch 3/100\n",
      "110/110 [==============================] - 0s 2ms/step - loss: 0.0930 - accuracy: 0.9774 - val_loss: 0.0941 - val_accuracy: 0.9813\n",
      "Epoch 4/100\n",
      "110/110 [==============================] - 0s 4ms/step - loss: 0.1055 - accuracy: 0.9709 - val_loss: 0.1116 - val_accuracy: 0.9687\n",
      "Epoch 5/100\n",
      "110/110 [==============================] - 0s 2ms/step - loss: 0.1145 - accuracy: 0.9654 - val_loss: 0.1112 - val_accuracy: 0.9760\n",
      "Epoch 6/100\n",
      "110/110 [==============================] - 0s 2ms/step - loss: 0.1048 - accuracy: 0.9726 - val_loss: 0.1069 - val_accuracy: 0.9773\n",
      "Epoch 7/100\n",
      "110/110 [==============================] - 0s 3ms/step - loss: 0.1014 - accuracy: 0.9763 - val_loss: 0.0971 - val_accuracy: 0.9793\n",
      "Epoch 8/100\n",
      "110/110 [==============================] - 0s 3ms/step - loss: 0.0957 - accuracy: 0.9777 - val_loss: 0.0955 - val_accuracy: 0.9813\n",
      "Epoch 9/100\n",
      "110/110 [==============================] - 0s 2ms/step - loss: 0.0944 - accuracy: 0.9771 - val_loss: 0.0942 - val_accuracy: 0.9820\n",
      "Epoch 10/100\n",
      "110/110 [==============================] - 0s 3ms/step - loss: 0.0923 - accuracy: 0.9789 - val_loss: 0.0850 - val_accuracy: 0.9840\n",
      "Epoch 11/100\n",
      "110/110 [==============================] - 0s 2ms/step - loss: 0.0912 - accuracy: 0.9789 - val_loss: 0.0840 - val_accuracy: 0.9847\n",
      "Epoch 12/100\n",
      "110/110 [==============================] - 0s 2ms/step - loss: 0.0901 - accuracy: 0.9786 - val_loss: 0.0828 - val_accuracy: 0.9847\n",
      "Epoch 13/100\n",
      "110/110 [==============================] - 0s 3ms/step - loss: 0.1145 - accuracy: 0.9700 - val_loss: 0.1057 - val_accuracy: 0.9707\n",
      "Epoch 14/100\n",
      "110/110 [==============================] - 0s 3ms/step - loss: 0.1128 - accuracy: 0.9746 - val_loss: 0.0780 - val_accuracy: 0.9807\n",
      "Epoch 15/100\n",
      "110/110 [==============================] - 0s 2ms/step - loss: 0.0988 - accuracy: 0.9734 - val_loss: 0.0765 - val_accuracy: 0.9813\n",
      "Epoch 16/100\n",
      "110/110 [==============================] - 0s 3ms/step - loss: 0.0891 - accuracy: 0.9780 - val_loss: 0.0739 - val_accuracy: 0.9827\n",
      "Epoch 17/100\n",
      "110/110 [==============================] - 0s 2ms/step - loss: 0.0864 - accuracy: 0.9783 - val_loss: 0.0728 - val_accuracy: 0.9820\n",
      "Epoch 18/100\n",
      "110/110 [==============================] - 0s 3ms/step - loss: 0.0850 - accuracy: 0.9803 - val_loss: 0.0715 - val_accuracy: 0.9827\n",
      "Epoch 19/100\n",
      "110/110 [==============================] - 0s 2ms/step - loss: 0.0840 - accuracy: 0.9803 - val_loss: 0.0706 - val_accuracy: 0.9827\n",
      "Epoch 20/100\n",
      "110/110 [==============================] - 0s 2ms/step - loss: 0.0832 - accuracy: 0.9794 - val_loss: 0.0705 - val_accuracy: 0.9840\n",
      "Epoch 21/100\n",
      "110/110 [==============================] - 0s 3ms/step - loss: 0.0824 - accuracy: 0.9794 - val_loss: 0.0695 - val_accuracy: 0.9833\n",
      "Epoch 22/100\n",
      "110/110 [==============================] - 0s 3ms/step - loss: 0.0821 - accuracy: 0.9797 - val_loss: 0.0689 - val_accuracy: 0.9827\n",
      "Epoch 23/100\n",
      "110/110 [==============================] - 0s 3ms/step - loss: 0.0816 - accuracy: 0.9800 - val_loss: 0.0695 - val_accuracy: 0.9833\n",
      "Epoch 24/100\n",
      "110/110 [==============================] - 0s 3ms/step - loss: 0.0812 - accuracy: 0.9803 - val_loss: 0.0684 - val_accuracy: 0.9827\n",
      "Epoch 25/100\n",
      "110/110 [==============================] - 0s 3ms/step - loss: 0.0808 - accuracy: 0.9794 - val_loss: 0.0682 - val_accuracy: 0.9820\n",
      "Epoch 26/100\n",
      "110/110 [==============================] - 0s 3ms/step - loss: 0.0800 - accuracy: 0.9794 - val_loss: 0.0838 - val_accuracy: 0.9833\n",
      "Epoch 27/100\n",
      "110/110 [==============================] - 0s 3ms/step - loss: 0.0830 - accuracy: 0.9797 - val_loss: 0.0759 - val_accuracy: 0.9833\n",
      "Epoch 28/100\n",
      "110/110 [==============================] - 0s 3ms/step - loss: 0.0825 - accuracy: 0.9800 - val_loss: 0.0839 - val_accuracy: 0.9820\n",
      "Epoch 29/100\n",
      "110/110 [==============================] - 0s 3ms/step - loss: 0.0791 - accuracy: 0.9791 - val_loss: 0.0833 - val_accuracy: 0.9840\n",
      "Epoch 30/100\n",
      "110/110 [==============================] - 0s 3ms/step - loss: 0.0818 - accuracy: 0.9794 - val_loss: 0.0761 - val_accuracy: 0.9827\n",
      "Epoch 31/100\n",
      "110/110 [==============================] - 0s 3ms/step - loss: 0.0811 - accuracy: 0.9803 - val_loss: 0.0753 - val_accuracy: 0.9847\n",
      "Epoch 32/100\n",
      "110/110 [==============================] - 0s 3ms/step - loss: 0.0829 - accuracy: 0.9800 - val_loss: 0.0915 - val_accuracy: 0.9833\n",
      "Epoch 33/100\n",
      "110/110 [==============================] - 0s 3ms/step - loss: 0.0821 - accuracy: 0.9791 - val_loss: 0.0749 - val_accuracy: 0.9833\n",
      "Epoch 34/100\n",
      "110/110 [==============================] - 0s 3ms/step - loss: 0.0825 - accuracy: 0.9783 - val_loss: 0.0817 - val_accuracy: 0.9827\n",
      "Epoch 35/100\n",
      "110/110 [==============================] - 0s 3ms/step - loss: 0.0807 - accuracy: 0.9803 - val_loss: 0.0746 - val_accuracy: 0.9847\n",
      "Epoch 36/100\n",
      "110/110 [==============================] - 0s 3ms/step - loss: 0.0802 - accuracy: 0.9811 - val_loss: 0.0904 - val_accuracy: 0.9833\n",
      "Epoch 37/100\n",
      "110/110 [==============================] - 0s 3ms/step - loss: 0.0796 - accuracy: 0.9803 - val_loss: 0.0897 - val_accuracy: 0.9867\n",
      "Epoch 38/100\n",
      "110/110 [==============================] - 0s 2ms/step - loss: 0.2034 - accuracy: 0.9643 - val_loss: 0.2626 - val_accuracy: 0.9413\n",
      "Epoch 39/100\n",
      "110/110 [==============================] - 0s 3ms/step - loss: 0.3654 - accuracy: 0.9366 - val_loss: 0.1706 - val_accuracy: 0.9580\n",
      "Epoch 40/100\n",
      "110/110 [==============================] - 0s 3ms/step - loss: 0.2437 - accuracy: 0.9526 - val_loss: 0.1036 - val_accuracy: 0.9727\n",
      "Epoch 41/100\n",
      "110/110 [==============================] - 0s 3ms/step - loss: 0.1849 - accuracy: 0.9611 - val_loss: 0.0834 - val_accuracy: 0.9767\n",
      "Epoch 42/100\n",
      "110/110 [==============================] - 0s 3ms/step - loss: 0.1333 - accuracy: 0.9660 - val_loss: 0.0777 - val_accuracy: 0.9800\n",
      "Epoch 43/100\n",
      "110/110 [==============================] - 0s 3ms/step - loss: 0.1100 - accuracy: 0.9717 - val_loss: 0.0809 - val_accuracy: 0.9793\n",
      "Epoch 44/100\n",
      "110/110 [==============================] - 0s 3ms/step - loss: 0.1036 - accuracy: 0.9726 - val_loss: 0.0796 - val_accuracy: 0.9820\n",
      "Epoch 45/100\n",
      "110/110 [==============================] - 0s 3ms/step - loss: 0.1015 - accuracy: 0.9729 - val_loss: 0.0771 - val_accuracy: 0.9827\n",
      "Epoch 46/100\n",
      "110/110 [==============================] - 0s 3ms/step - loss: 0.0960 - accuracy: 0.9754 - val_loss: 0.0759 - val_accuracy: 0.9827\n",
      "Epoch 47/100\n",
      "110/110 [==============================] - 0s 3ms/step - loss: 0.0948 - accuracy: 0.9749 - val_loss: 0.0759 - val_accuracy: 0.9813\n",
      "Epoch 48/100\n",
      "110/110 [==============================] - 0s 3ms/step - loss: 0.0934 - accuracy: 0.9769 - val_loss: 0.0753 - val_accuracy: 0.9813\n",
      "Epoch 49/100\n",
      "110/110 [==============================] - 0s 3ms/step - loss: 0.0924 - accuracy: 0.9771 - val_loss: 0.0749 - val_accuracy: 0.9813\n",
      "Epoch 50/100\n",
      "110/110 [==============================] - 0s 3ms/step - loss: 0.0917 - accuracy: 0.9777 - val_loss: 0.0745 - val_accuracy: 0.9800\n",
      "Epoch 51/100\n",
      "110/110 [==============================] - 0s 3ms/step - loss: 0.0876 - accuracy: 0.9771 - val_loss: 0.0746 - val_accuracy: 0.9800\n",
      "Epoch 52/100\n",
      "110/110 [==============================] - 0s 3ms/step - loss: 0.0883 - accuracy: 0.9760 - val_loss: 0.0983 - val_accuracy: 0.9753\n",
      "Epoch 53/100\n",
      "110/110 [==============================] - 0s 3ms/step - loss: 0.0982 - accuracy: 0.9743 - val_loss: 0.0754 - val_accuracy: 0.9840\n",
      "Epoch 54/100\n",
      "110/110 [==============================] - 0s 3ms/step - loss: 0.0865 - accuracy: 0.9791 - val_loss: 0.0756 - val_accuracy: 0.9840\n",
      "Epoch 55/100\n",
      "110/110 [==============================] - 0s 3ms/step - loss: 0.0827 - accuracy: 0.9797 - val_loss: 0.0741 - val_accuracy: 0.9833\n",
      "Epoch 56/100\n",
      "110/110 [==============================] - 0s 3ms/step - loss: 0.0813 - accuracy: 0.9794 - val_loss: 0.0734 - val_accuracy: 0.9833\n",
      "Epoch 57/100\n",
      "110/110 [==============================] - 0s 3ms/step - loss: 0.0805 - accuracy: 0.9797 - val_loss: 0.0733 - val_accuracy: 0.9833\n",
      "Epoch 58/100\n",
      "110/110 [==============================] - 0s 2ms/step - loss: 0.0800 - accuracy: 0.9806 - val_loss: 0.0732 - val_accuracy: 0.9827\n",
      "Epoch 59/100\n",
      "110/110 [==============================] - 0s 3ms/step - loss: 0.0797 - accuracy: 0.9806 - val_loss: 0.0730 - val_accuracy: 0.9827\n",
      "Epoch 60/100\n",
      "110/110 [==============================] - 0s 3ms/step - loss: 0.0794 - accuracy: 0.9811 - val_loss: 0.0729 - val_accuracy: 0.9827\n",
      "Epoch 61/100\n",
      "110/110 [==============================] - 0s 3ms/step - loss: 0.0790 - accuracy: 0.9814 - val_loss: 0.0729 - val_accuracy: 0.9827\n",
      "Epoch 62/100\n",
      "110/110 [==============================] - 0s 3ms/step - loss: 0.0789 - accuracy: 0.9811 - val_loss: 0.0728 - val_accuracy: 0.9820\n",
      "Epoch 63/100\n",
      "110/110 [==============================] - 0s 3ms/step - loss: 0.0785 - accuracy: 0.9817 - val_loss: 0.0728 - val_accuracy: 0.9820\n",
      "Epoch 64/100\n",
      "110/110 [==============================] - 0s 2ms/step - loss: 0.0785 - accuracy: 0.9811 - val_loss: 0.0728 - val_accuracy: 0.9827\n",
      "Epoch 65/100\n",
      "110/110 [==============================] - 0s 2ms/step - loss: 0.0782 - accuracy: 0.9814 - val_loss: 0.0726 - val_accuracy: 0.9813\n",
      "Epoch 66/100\n",
      "110/110 [==============================] - 0s 2ms/step - loss: 0.0780 - accuracy: 0.9814 - val_loss: 0.0724 - val_accuracy: 0.9813\n",
      "Epoch 67/100\n",
      "110/110 [==============================] - 0s 3ms/step - loss: 0.0780 - accuracy: 0.9811 - val_loss: 0.0730 - val_accuracy: 0.9827\n",
      "Epoch 68/100\n",
      "110/110 [==============================] - 0s 2ms/step - loss: 0.0777 - accuracy: 0.9811 - val_loss: 0.0722 - val_accuracy: 0.9827\n",
      "Epoch 69/100\n",
      "110/110 [==============================] - 0s 3ms/step - loss: 0.0788 - accuracy: 0.9803 - val_loss: 0.0745 - val_accuracy: 0.9827\n",
      "Epoch 70/100\n",
      "110/110 [==============================] - 0s 2ms/step - loss: 0.0785 - accuracy: 0.9803 - val_loss: 0.0725 - val_accuracy: 0.9847\n",
      "Epoch 71/100\n",
      "110/110 [==============================] - 0s 3ms/step - loss: 0.0773 - accuracy: 0.9811 - val_loss: 0.0721 - val_accuracy: 0.9853\n",
      "Epoch 72/100\n",
      "110/110 [==============================] - 0s 3ms/step - loss: 0.0769 - accuracy: 0.9811 - val_loss: 0.0725 - val_accuracy: 0.9840\n",
      "Epoch 73/100\n",
      "110/110 [==============================] - 0s 3ms/step - loss: 0.0769 - accuracy: 0.9823 - val_loss: 0.0723 - val_accuracy: 0.9847\n",
      "Epoch 74/100\n",
      "110/110 [==============================] - 0s 3ms/step - loss: 0.0767 - accuracy: 0.9814 - val_loss: 0.0725 - val_accuracy: 0.9833\n",
      "Epoch 75/100\n",
      "110/110 [==============================] - 0s 3ms/step - loss: 0.0768 - accuracy: 0.9809 - val_loss: 0.0732 - val_accuracy: 0.9833\n",
      "Epoch 76/100\n",
      "110/110 [==============================] - 0s 3ms/step - loss: 0.0784 - accuracy: 0.9811 - val_loss: 0.0732 - val_accuracy: 0.9840\n",
      "Epoch 77/100\n",
      "110/110 [==============================] - 0s 3ms/step - loss: 0.0769 - accuracy: 0.9817 - val_loss: 0.0725 - val_accuracy: 0.9847\n",
      "Epoch 78/100\n",
      "110/110 [==============================] - 0s 3ms/step - loss: 0.0763 - accuracy: 0.9809 - val_loss: 0.0729 - val_accuracy: 0.9847\n",
      "Epoch 79/100\n",
      "110/110 [==============================] - 0s 2ms/step - loss: 0.0764 - accuracy: 0.9817 - val_loss: 0.0728 - val_accuracy: 0.9847\n",
      "Epoch 80/100\n",
      "110/110 [==============================] - 0s 2ms/step - loss: 0.0737 - accuracy: 0.9811 - val_loss: 0.0666 - val_accuracy: 0.9847\n",
      "Epoch 81/100\n",
      "110/110 [==============================] - 0s 2ms/step - loss: 0.0725 - accuracy: 0.9811 - val_loss: 0.0720 - val_accuracy: 0.9860\n",
      "Epoch 82/100\n",
      "110/110 [==============================] - 0s 2ms/step - loss: 0.0731 - accuracy: 0.9814 - val_loss: 0.0738 - val_accuracy: 0.9833\n",
      "Epoch 83/100\n",
      "110/110 [==============================] - 0s 2ms/step - loss: 0.0735 - accuracy: 0.9803 - val_loss: 0.0731 - val_accuracy: 0.9833\n",
      "Epoch 84/100\n",
      "110/110 [==============================] - 0s 2ms/step - loss: 0.0727 - accuracy: 0.9811 - val_loss: 0.0655 - val_accuracy: 0.9847\n",
      "Epoch 85/100\n",
      "110/110 [==============================] - 0s 3ms/step - loss: 0.0728 - accuracy: 0.9806 - val_loss: 0.0724 - val_accuracy: 0.9840\n",
      "Epoch 86/100\n",
      "110/110 [==============================] - 0s 2ms/step - loss: 0.0732 - accuracy: 0.9803 - val_loss: 0.0678 - val_accuracy: 0.9827\n",
      "Epoch 87/100\n",
      "110/110 [==============================] - 0s 3ms/step - loss: 0.0762 - accuracy: 0.9820 - val_loss: 0.0734 - val_accuracy: 0.9840\n",
      "Epoch 88/100\n",
      "110/110 [==============================] - 0s 2ms/step - loss: 0.0728 - accuracy: 0.9800 - val_loss: 0.0682 - val_accuracy: 0.9827\n",
      "Epoch 89/100\n",
      "110/110 [==============================] - 0s 3ms/step - loss: 0.0754 - accuracy: 0.9803 - val_loss: 0.0759 - val_accuracy: 0.9827\n",
      "Epoch 90/100\n",
      "110/110 [==============================] - 0s 3ms/step - loss: 0.0822 - accuracy: 0.9754 - val_loss: 0.0867 - val_accuracy: 0.9800\n",
      "Epoch 91/100\n",
      "110/110 [==============================] - 0s 3ms/step - loss: 0.0780 - accuracy: 0.9800 - val_loss: 0.0931 - val_accuracy: 0.9820\n",
      "Epoch 92/100\n",
      "110/110 [==============================] - 0s 3ms/step - loss: 0.0737 - accuracy: 0.9820 - val_loss: 0.0846 - val_accuracy: 0.9813\n",
      "Epoch 93/100\n",
      "110/110 [==============================] - 0s 3ms/step - loss: 0.0728 - accuracy: 0.9803 - val_loss: 0.0841 - val_accuracy: 0.9813\n",
      "Epoch 94/100\n",
      "110/110 [==============================] - 0s 3ms/step - loss: 0.0717 - accuracy: 0.9803 - val_loss: 0.0774 - val_accuracy: 0.9827\n",
      "Epoch 95/100\n",
      "110/110 [==============================] - 0s 3ms/step - loss: 0.0754 - accuracy: 0.9809 - val_loss: 0.0740 - val_accuracy: 0.9827\n",
      "Epoch 96/100\n",
      "110/110 [==============================] - 0s 3ms/step - loss: 0.0711 - accuracy: 0.9803 - val_loss: 0.0747 - val_accuracy: 0.9833\n",
      "Epoch 97/100\n",
      "110/110 [==============================] - 0s 3ms/step - loss: 0.0714 - accuracy: 0.9803 - val_loss: 0.0733 - val_accuracy: 0.9847\n",
      "Epoch 98/100\n",
      "110/110 [==============================] - 0s 3ms/step - loss: 0.0707 - accuracy: 0.9809 - val_loss: 0.0745 - val_accuracy: 0.9833\n",
      "Epoch 99/100\n",
      "110/110 [==============================] - 0s 3ms/step - loss: 0.0712 - accuracy: 0.9823 - val_loss: 0.0724 - val_accuracy: 0.9840\n",
      "Epoch 100/100\n",
      "110/110 [==============================] - 0s 3ms/step - loss: 0.0728 - accuracy: 0.9809 - val_loss: 0.0850 - val_accuracy: 0.9813\n"
     ]
    }
   ],
   "source": [
    "hist = model.fit(X_train, y_train,\n",
    "          batch_size=32, epochs=100,\n",
    "           validation_data=(X_test, y_test))"
   ]
  },
  {
   "cell_type": "markdown",
   "metadata": {},
   "source": [
    "By looking at the numbers, I should be able to see the loss increase/decrease and the accuracy increase/decrease over time.\n",
    "I have defined the size of the batch and how long I would like to train it (epochs). I have specified the validation data so that the model tells me how it is working on the validation data at each point. This function will produce a history, which I have saved under the hist variable."
   ]
  },
  {
   "cell_type": "markdown",
   "metadata": {},
   "source": [
    "I wanted to try to see the changes by setting a smaller number of epochs:"
   ]
  },
  {
   "cell_type": "code",
   "execution_count": 38,
   "metadata": {},
   "outputs": [
    {
     "name": "stdout",
     "output_type": "stream",
     "text": [
      "Epoch 1/5\n",
      "234/234 [==============================] - 1s 1ms/step - loss: 0.3831 - accuracy: 0.9037\n",
      "Epoch 2/5\n",
      "234/234 [==============================] - 0s 1ms/step - loss: 0.1877 - accuracy: 0.9121\n",
      "Epoch 3/5\n",
      "234/234 [==============================] - 0s 1ms/step - loss: 0.1467 - accuracy: 0.9490\n",
      "Epoch 4/5\n",
      "234/234 [==============================] - 0s 1ms/step - loss: 0.1255 - accuracy: 0.9592\n",
      "Epoch 5/5\n",
      "234/234 [==============================] - 0s 1ms/step - loss: 0.1266 - accuracy: 0.9667\n"
     ]
    },
    {
     "data": {
      "text/plain": [
       "<keras.callbacks.History at 0x2c11e4738b0>"
      ]
     },
     "execution_count": 38,
     "metadata": {},
     "output_type": "execute_result"
    }
   ],
   "source": [
    "%matplotlib inline\n",
    "\n",
    "from keras.models import Sequential\n",
    "from keras.layers import Dense\n",
    " \n",
    "model = Sequential()\n",
    " \n",
    "model.add(Dense(units=5,input_shape=(X_train.shape[1],) , kernel_initializer='normal', activation='relu'))\n",
    "\n",
    "model.add(Dense(units=5, input_shape=(X_train.shape[1],), kernel_initializer='normal', activation='tanh'))\n",
    " \n",
    "\n",
    "model.add(Dense(1,input_shape=(X_train.shape[1],), kernel_initializer='normal'))\n",
    "model.compile(optimizer ='adam', loss='binary_crossentropy', metrics =['accuracy']) \n",
    "model.fit(X_train, y_train ,batch_size = 15, epochs = 5, verbose=1)"
   ]
  },
  {
   "cell_type": "markdown",
   "metadata": {},
   "source": [
    "The model.evaluate function returns loss as the first element and accuracy as the second element. Accuracy is very high: 0.9760.\n"
   ]
  },
  {
   "cell_type": "code",
   "execution_count": 39,
   "metadata": {},
   "outputs": [
    {
     "name": "stdout",
     "output_type": "stream",
     "text": [
      "47/47 [==============================] - 0s 1ms/step - loss: 0.0987 - accuracy: 0.9760\n",
      "loss 0.09865567833185196\n",
      "accuracy 0.9760000109672546\n"
     ]
    }
   ],
   "source": [
    "scores = model.evaluate(X_test, y_test)\n",
    "\n",
    "for i in range(len(model.metrics_names)):\n",
    "    print(model.metrics_names[i], scores[i])"
   ]
  },
  {
   "cell_type": "markdown",
   "metadata": {},
   "source": [
    "It is possible to track the loss of training and the loss of val on the number of elapsed epochs. The first two lines say I want to plot the loss and val_loss. The third line specifies the title of this chart, “Model Loss”. The fourth and fifth lines tell us how the y and x axes should be labeled respectively. The sixth row includes a legend for the chart and the location of the legend will be on the top right:"
   ]
  },
  {
   "cell_type": "code",
   "execution_count": 40,
   "metadata": {},
   "outputs": [
    {
     "data": {
      "image/png": "[encoded data removed]",
      "text/plain": [
       "<Figure size 432x288 with 1 Axes>"
      ]
     },
     "metadata": {
      "needs_background": "light"
     },
     "output_type": "display_data"
    }
   ],
   "source": [
    "plt.plot(hist.history['loss'])\n",
    "plt.plot(hist.history['val_loss'])\n",
    "plt.title('Model loss')\n",
    "plt.ylabel('Loss')\n",
    "plt.xlabel('Epoch')\n",
    "plt.legend(['Train', 'Val'], loc='upper right')\n",
    "plt.show()"
   ]
  },
  {
   "cell_type": "markdown",
   "metadata": {},
   "source": [
    "It is possible to track the accuracy of our training and the accuracy of validation:"
   ]
  },
  {
   "cell_type": "code",
   "execution_count": 41,
   "metadata": {},
   "outputs": [
    {
     "data": {
      "image/png": "[encoded data removed]",
      "text/plain": [
       "<Figure size 432x288 with 1 Axes>"
      ]
     },
     "metadata": {
      "needs_background": "light"
     },
     "output_type": "display_data"
    }
   ],
   "source": [
    "plt.plot(hist.history['accuracy'])\n",
    "plt.plot(hist.history['val_accuracy'])\n",
    "plt.title('Model accuracy')\n",
    "plt.ylabel('Accuracy')\n",
    "plt.xlabel('Epoch')\n",
    "plt.legend(['Train', 'Val'], loc='lower right')\n",
    "plt.show()"
   ]
  },
  {
   "cell_type": "markdown",
   "metadata": {},
   "source": [
    "It is possible to introduce regularization into our neural network to adapt it to the training set. I used the Adam optimizer. Adam is one of the most common optimizers that adds some changes to the descent of the stochastic gradient in order to reach the lower loss function more quickly:"
   ]
  },
  {
   "cell_type": "code",
   "execution_count": 42,
   "metadata": {},
   "outputs": [
    {
     "name": "stdout",
     "output_type": "stream",
     "text": [
      "Epoch 1/15\n",
      "110/110 [==============================] - 6s 45ms/step - loss: 0.2536 - accuracy: 0.9095 - val_loss: 0.0951 - val_accuracy: 0.9700\n",
      "Epoch 2/15\n",
      "110/110 [==============================] - 5s 43ms/step - loss: 0.0616 - accuracy: 0.9784 - val_loss: 0.0910 - val_accuracy: 0.9740\n",
      "Epoch 3/15\n",
      "110/110 [==============================] - 5s 50ms/step - loss: 0.0572 - accuracy: 0.9764 - val_loss: 0.0496 - val_accuracy: 0.9847\n",
      "Epoch 4/15\n",
      "110/110 [==============================] - 5s 44ms/step - loss: 0.0329 - accuracy: 0.9877 - val_loss: 0.0573 - val_accuracy: 0.9860\n",
      "Epoch 5/15\n",
      "110/110 [==============================] - 5s 42ms/step - loss: 0.0464 - accuracy: 0.9842 - val_loss: 0.0579 - val_accuracy: 0.9833\n",
      "Epoch 6/15\n",
      "110/110 [==============================] - 5s 42ms/step - loss: 0.0301 - accuracy: 0.9854 - val_loss: 0.0760 - val_accuracy: 0.9813\n",
      "Epoch 7/15\n",
      "110/110 [==============================] - 5s 44ms/step - loss: 0.0311 - accuracy: 0.9870 - val_loss: 0.0864 - val_accuracy: 0.9813\n",
      "Epoch 8/15\n",
      "110/110 [==============================] - 5s 42ms/step - loss: 0.0265 - accuracy: 0.9915 - val_loss: 0.0684 - val_accuracy: 0.9847\n",
      "Epoch 9/15\n",
      "110/110 [==============================] - 4s 41ms/step - loss: 0.0280 - accuracy: 0.9910 - val_loss: 0.1491 - val_accuracy: 0.9720\n",
      "Epoch 10/15\n",
      "110/110 [==============================] - 5s 43ms/step - loss: 0.0280 - accuracy: 0.9892 - val_loss: 0.0617 - val_accuracy: 0.9793\n",
      "Epoch 11/15\n",
      "110/110 [==============================] - 5s 42ms/step - loss: 0.0201 - accuracy: 0.9949 - val_loss: 0.1136 - val_accuracy: 0.9820\n",
      "Epoch 12/15\n",
      "110/110 [==============================] - 5s 43ms/step - loss: 0.0169 - accuracy: 0.9914 - val_loss: 0.1070 - val_accuracy: 0.9867\n",
      "Epoch 13/15\n",
      "110/110 [==============================] - 5s 42ms/step - loss: 0.0124 - accuracy: 0.9948 - val_loss: 0.0906 - val_accuracy: 0.9833\n",
      "Epoch 14/15\n",
      "110/110 [==============================] - 5s 45ms/step - loss: 0.0131 - accuracy: 0.9945 - val_loss: 0.1142 - val_accuracy: 0.9847\n",
      "Epoch 15/15\n",
      "110/110 [==============================] - 5s 47ms/step - loss: 0.0063 - accuracy: 0.9980 - val_loss: 0.1018 - val_accuracy: 0.9807\n"
     ]
    }
   ],
   "source": [
    "model_2 = Sequential([\n",
    "    Dense(1000, activation='relu', input_shape= (X_train.shape[1],)),\n",
    "    Dense(1000, activation='relu'),\n",
    "    Dense(1000, activation='relu'),\n",
    "    Dense(1000, activation='relu'),\n",
    "    Dense(1, activation='sigmoid'), ])\n",
    "\n",
    "model_2.compile(optimizer='adam',\n",
    "              loss='binary_crossentropy',\n",
    "              metrics=['accuracy'])\n",
    "              \n",
    "hist_2 = model_2.fit(X_train, y_train,\n",
    "          batch_size=32, epochs = 15,\n",
    "          validation_data=(X_test, y_test))"
   ]
  },
  {
   "cell_type": "code",
   "execution_count": 43,
   "metadata": {},
   "outputs": [
    {
     "data": {
      "image/png": "[encoded data removed]",
      "text/plain": [
       "<Figure size 432x288 with 1 Axes>"
      ]
     },
     "metadata": {
      "needs_background": "light"
     },
     "output_type": "display_data"
    }
   ],
   "source": [
    "plt.plot(hist_2.history['loss'])\n",
    "plt.plot(hist_2.history['val_loss'])\n",
    "plt.title('Model loss')\n",
    "plt.ylabel('Loss')\n",
    "plt.xlabel('Epoch')\n",
    "plt.legend(['Train', 'Val'], loc='upper right')\n",
    "plt.show()"
   ]
  },
  {
   "cell_type": "markdown",
   "metadata": {},
   "source": [
    "This is a clear sign of overfitting. The training loss is decreasing, but the validation loss is far above the training loss and increasing (beyond the epoch 2 inflection point).\n"
   ]
  },
  {
   "cell_type": "code",
   "execution_count": 44,
   "metadata": {},
   "outputs": [
    {
     "data": {
      "image/png": "[encoded data removed]",
      "text/plain": [
       "<Figure size 432x288 with 1 Axes>"
      ]
     },
     "metadata": {
      "needs_background": "light"
     },
     "output_type": "display_data"
    }
   ],
   "source": [
    "plt.plot(hist_2.history['accuracy'])\n",
    "plt.plot(hist_2.history['val_accuracy'])\n",
    "plt.title('Model accuracy')\n",
    "plt.ylabel('Accuracy')\n",
    "plt.xlabel('Epoch')\n",
    "plt.legend(['Train', 'Val'], loc='lower right')\n",
    "plt.show()"
   ]
  },
  {
   "cell_type": "markdown",
   "metadata": {},
   "source": [
    "It is possible to try strategies to reduce overfitting (in addition to returning the architecture to the first model).\n",
    "I will work on regularization and L2 dropout.\n",
    "The reason I don't add the early stop here is because after using the first two strategies, the loss of validation doesn't take the U shape we saw in the chart and therefore the early stop won't be as effective.\n",
    "\n",
    "First, let's import the code we need for L2 regularization and dropout:"
   ]
  },
  {
   "cell_type": "code",
   "execution_count": 45,
   "metadata": {},
   "outputs": [],
   "source": [
    "from keras.layers import Dropout\n",
    "from keras import regularizers\n"
   ]
  },
  {
   "cell_type": "markdown",
   "metadata": {},
   "source": [
    "To add L2 regularization:\n",
    "\n",
    "kernel_regularizer = regularizers.l2 (0.01)\n",
    "\n",
    "This tells Keras to include the squared values of those parameters in the overall loss function and to weight them by 0.01 in the loss function.\n",
    "\n",
    "  To add Dropout:\n",
    "\n",
    "Dropout (0.3),\n",
    "\n",
    "This means that the neurons in the previous layer have a 0.3 chance of dropping out during training."
   ]
  },
  {
   "cell_type": "code",
   "execution_count": 46,
   "metadata": {},
   "outputs": [],
   "source": [
    "model_3 = Sequential([\n",
    "    Dense(1000, activation='relu', kernel_regularizer=regularizers.l2(0.01), input_shape=(X_train.shape[1],)),\n",
    "    Dropout(0.3),\n",
    "    Dense(1000, activation='relu', kernel_regularizer=regularizers.l2(0.01)),\n",
    "    Dropout(0.3),\n",
    "    Dense(1000, activation='relu', kernel_regularizer=regularizers.l2(0.01)),\n",
    "    Dropout(0.3),\n",
    "    Dense(1000, activation='relu', kernel_regularizer=regularizers.l2(0.01)),\n",
    "    Dropout(0.3),\n",
    "    Dense(1, activation='sigmoid', kernel_regularizer=regularizers.l2(0.01)),\n",
    "])"
   ]
  },
  {
   "cell_type": "code",
   "execution_count": 48,
   "metadata": {},
   "outputs": [
    {
     "name": "stdout",
     "output_type": "stream",
     "text": [
      "Epoch 1/50\n",
      "110/110 [==============================] - 10s 74ms/step - loss: 12.2512 - accuracy: 0.8933 - val_loss: 0.3048 - val_accuracy: 0.9713\n",
      "Epoch 2/50\n",
      "110/110 [==============================] - 7s 64ms/step - loss: 0.2894 - accuracy: 0.9627 - val_loss: 0.2375 - val_accuracy: 0.9680\n",
      "Epoch 3/50\n",
      "110/110 [==============================] - 7s 62ms/step - loss: 0.2418 - accuracy: 0.9662 - val_loss: 0.2452 - val_accuracy: 0.9567\n",
      "Epoch 4/50\n",
      "110/110 [==============================] - 8s 73ms/step - loss: 0.2314 - accuracy: 0.9732 - val_loss: 0.2106 - val_accuracy: 0.9700\n",
      "Epoch 5/50\n",
      "110/110 [==============================] - 7s 68ms/step - loss: 0.2215 - accuracy: 0.9718 - val_loss: 0.2081 - val_accuracy: 0.9727\n",
      "Epoch 6/50\n",
      "110/110 [==============================] - 8s 68ms/step - loss: 0.2280 - accuracy: 0.9738 - val_loss: 0.2039 - val_accuracy: 0.9793\n",
      "Epoch 7/50\n",
      "110/110 [==============================] - 7s 65ms/step - loss: 0.2039 - accuracy: 0.9756 - val_loss: 0.2213 - val_accuracy: 0.9613\n",
      "Epoch 8/50\n",
      "110/110 [==============================] - 8s 72ms/step - loss: 0.2032 - accuracy: 0.9766 - val_loss: 0.2061 - val_accuracy: 0.9740\n",
      "Epoch 9/50\n",
      "110/110 [==============================] - 8s 71ms/step - loss: 0.2014 - accuracy: 0.9799 - val_loss: 0.2010 - val_accuracy: 0.9780\n",
      "Epoch 10/50\n",
      "110/110 [==============================] - 8s 70ms/step - loss: 0.2067 - accuracy: 0.9737 - val_loss: 0.1993 - val_accuracy: 0.9787\n",
      "Epoch 11/50\n",
      "110/110 [==============================] - 8s 75ms/step - loss: 0.1968 - accuracy: 0.9767 - val_loss: 0.1988 - val_accuracy: 0.9807\n",
      "Epoch 12/50\n",
      "110/110 [==============================] - 7s 64ms/step - loss: 0.2003 - accuracy: 0.9794 - val_loss: 0.1966 - val_accuracy: 0.9753\n",
      "Epoch 13/50\n",
      "110/110 [==============================] - 7s 61ms/step - loss: 0.2013 - accuracy: 0.9757 - val_loss: 0.1952 - val_accuracy: 0.9800\n",
      "Epoch 14/50\n",
      "110/110 [==============================] - 7s 64ms/step - loss: 0.2100 - accuracy: 0.9735 - val_loss: 0.1885 - val_accuracy: 0.9827\n",
      "Epoch 15/50\n",
      "110/110 [==============================] - 7s 61ms/step - loss: 0.2037 - accuracy: 0.9783 - val_loss: 0.1953 - val_accuracy: 0.9827\n",
      "Epoch 16/50\n",
      "110/110 [==============================] - 7s 62ms/step - loss: 0.2062 - accuracy: 0.9747 - val_loss: 0.2057 - val_accuracy: 0.9720\n",
      "Epoch 17/50\n",
      "110/110 [==============================] - 7s 62ms/step - loss: 0.2113 - accuracy: 0.9703 - val_loss: 0.1903 - val_accuracy: 0.9833\n",
      "Epoch 18/50\n",
      "110/110 [==============================] - 7s 62ms/step - loss: 0.2024 - accuracy: 0.9783 - val_loss: 0.1857 - val_accuracy: 0.9807\n",
      "Epoch 19/50\n",
      "110/110 [==============================] - 7s 64ms/step - loss: 0.2024 - accuracy: 0.9761 - val_loss: 0.1940 - val_accuracy: 0.9807\n",
      "Epoch 20/50\n",
      "110/110 [==============================] - 7s 62ms/step - loss: 0.2063 - accuracy: 0.9753 - val_loss: 0.1867 - val_accuracy: 0.9847\n",
      "Epoch 21/50\n",
      "110/110 [==============================] - 7s 63ms/step - loss: 0.1916 - accuracy: 0.9801 - val_loss: 0.1864 - val_accuracy: 0.9833\n",
      "Epoch 22/50\n",
      "110/110 [==============================] - 7s 64ms/step - loss: 0.2083 - accuracy: 0.9750 - val_loss: 0.1901 - val_accuracy: 0.9800\n",
      "Epoch 23/50\n",
      "110/110 [==============================] - 7s 63ms/step - loss: 0.1997 - accuracy: 0.9759 - val_loss: 0.1893 - val_accuracy: 0.9787\n",
      "Epoch 24/50\n",
      "110/110 [==============================] - 7s 62ms/step - loss: 0.2024 - accuracy: 0.9764 - val_loss: 0.2073 - val_accuracy: 0.9720\n",
      "Epoch 25/50\n",
      "110/110 [==============================] - 7s 61ms/step - loss: 0.2111 - accuracy: 0.9764 - val_loss: 0.1902 - val_accuracy: 0.9793\n",
      "Epoch 26/50\n",
      "110/110 [==============================] - 7s 64ms/step - loss: 0.1920 - accuracy: 0.9785 - val_loss: 0.1882 - val_accuracy: 0.9773\n",
      "Epoch 27/50\n",
      "110/110 [==============================] - 7s 63ms/step - loss: 0.2002 - accuracy: 0.9754 - val_loss: 0.1855 - val_accuracy: 0.9813\n",
      "Epoch 28/50\n",
      "110/110 [==============================] - 7s 63ms/step - loss: 0.1949 - accuracy: 0.9769 - val_loss: 0.2061 - val_accuracy: 0.9760\n",
      "Epoch 29/50\n",
      "110/110 [==============================] - 7s 63ms/step - loss: 0.2092 - accuracy: 0.9724 - val_loss: 0.1873 - val_accuracy: 0.9820\n",
      "Epoch 30/50\n",
      "110/110 [==============================] - 7s 63ms/step - loss: 0.1963 - accuracy: 0.9777 - val_loss: 0.1850 - val_accuracy: 0.9813\n",
      "Epoch 31/50\n",
      "110/110 [==============================] - 7s 63ms/step - loss: 0.2109 - accuracy: 0.9724 - val_loss: 0.1973 - val_accuracy: 0.9813\n",
      "Epoch 32/50\n",
      "110/110 [==============================] - 7s 63ms/step - loss: 0.2001 - accuracy: 0.9742 - val_loss: 0.1853 - val_accuracy: 0.9827\n",
      "Epoch 33/50\n",
      "110/110 [==============================] - 7s 63ms/step - loss: 0.2053 - accuracy: 0.9722 - val_loss: 0.1921 - val_accuracy: 0.9813\n",
      "Epoch 34/50\n",
      "110/110 [==============================] - 7s 59ms/step - loss: 0.1966 - accuracy: 0.9775 - val_loss: 0.1863 - val_accuracy: 0.9813\n",
      "Epoch 35/50\n",
      "110/110 [==============================] - 7s 63ms/step - loss: 0.1962 - accuracy: 0.9789 - val_loss: 0.1908 - val_accuracy: 0.9800\n",
      "Epoch 36/50\n",
      "110/110 [==============================] - 7s 59ms/step - loss: 0.1975 - accuracy: 0.9776 - val_loss: 0.1915 - val_accuracy: 0.9807\n",
      "Epoch 37/50\n",
      "110/110 [==============================] - 7s 62ms/step - loss: 0.2073 - accuracy: 0.9758 - val_loss: 0.1882 - val_accuracy: 0.9793\n",
      "Epoch 38/50\n",
      "110/110 [==============================] - 7s 61ms/step - loss: 0.2022 - accuracy: 0.9766 - val_loss: 0.1858 - val_accuracy: 0.9813\n",
      "Epoch 39/50\n",
      "110/110 [==============================] - 7s 60ms/step - loss: 0.2118 - accuracy: 0.9728 - val_loss: 0.1899 - val_accuracy: 0.9773\n",
      "Epoch 40/50\n",
      "110/110 [==============================] - 7s 62ms/step - loss: 0.1886 - accuracy: 0.9783 - val_loss: 0.1923 - val_accuracy: 0.9767\n",
      "Epoch 41/50\n",
      "110/110 [==============================] - 7s 60ms/step - loss: 0.1933 - accuracy: 0.9789 - val_loss: 0.1871 - val_accuracy: 0.9787\n",
      "Epoch 42/50\n",
      "110/110 [==============================] - 7s 62ms/step - loss: 0.1915 - accuracy: 0.9772 - val_loss: 0.1964 - val_accuracy: 0.9727\n",
      "Epoch 43/50\n",
      "110/110 [==============================] - 7s 60ms/step - loss: 0.2238 - accuracy: 0.9702 - val_loss: 0.1899 - val_accuracy: 0.9807\n",
      "Epoch 44/50\n",
      "110/110 [==============================] - 7s 61ms/step - loss: 0.1984 - accuracy: 0.9787 - val_loss: 0.1956 - val_accuracy: 0.9773\n",
      "Epoch 45/50\n",
      "110/110 [==============================] - 7s 62ms/step - loss: 0.2011 - accuracy: 0.9754 - val_loss: 0.1859 - val_accuracy: 0.9813\n",
      "Epoch 46/50\n",
      "110/110 [==============================] - 7s 60ms/step - loss: 0.1922 - accuracy: 0.9784 - val_loss: 0.1898 - val_accuracy: 0.9787\n",
      "Epoch 47/50\n",
      "110/110 [==============================] - 7s 63ms/step - loss: 0.1893 - accuracy: 0.9810 - val_loss: 0.1901 - val_accuracy: 0.9807\n",
      "Epoch 48/50\n",
      "110/110 [==============================] - 7s 61ms/step - loss: 0.1982 - accuracy: 0.9794 - val_loss: 0.1860 - val_accuracy: 0.9827\n",
      "Epoch 49/50\n",
      "110/110 [==============================] - 7s 62ms/step - loss: 0.1995 - accuracy: 0.9758 - val_loss: 0.1842 - val_accuracy: 0.9813\n",
      "Epoch 50/50\n",
      "110/110 [==============================] - 7s 61ms/step - loss: 0.2032 - accuracy: 0.9727 - val_loss: 0.1942 - val_accuracy: 0.9733\n"
     ]
    }
   ],
   "source": [
    "model_3.compile(optimizer='adam',\n",
    "              loss='binary_crossentropy',\n",
    "              metrics=['accuracy'])\n",
    "              \n",
    "hist_3 = model_3.fit(X_train, y_train,\n",
    "          batch_size=32, epochs= 50,\n",
    "          validation_data=(X_test, y_test))"
   ]
  },
  {
   "cell_type": "code",
   "execution_count": 49,
   "metadata": {},
   "outputs": [
    {
     "data": {
      "image/png": "[encoded data removed]",
      "text/plain": [
       "<Figure size 432x288 with 1 Axes>"
      ]
     },
     "metadata": {
      "needs_background": "light"
     },
     "output_type": "display_data"
    }
   ],
   "source": [
    "plt.plot(hist_3.history['loss'])\n",
    "plt.plot(hist_3.history['val_loss'])\n",
    "plt.title('Model loss')\n",
    "plt.ylabel('Loss')\n",
    "plt.xlabel('Epoch')\n",
    "plt.legend(['Train', 'Val'], loc='upper right')\n",
    "plt.ylim(top=1.2, bottom=0)\n",
    "plt.show()"
   ]
  },
  {
   "cell_type": "markdown",
   "metadata": {},
   "source": [
    "The loss is much higher in the beginning, and this is because I have changed the loss function.\n"
   ]
  },
  {
   "cell_type": "code",
   "execution_count": 50,
   "metadata": {},
   "outputs": [
    {
     "data": {
      "image/png": "[encoded data removed]",
      "text/plain": [
       "<Figure size 432x288 with 1 Axes>"
      ]
     },
     "metadata": {
      "needs_background": "light"
     },
     "output_type": "display_data"
    }
   ],
   "source": [
    "plt.plot(hist_3.history['accuracy'])\n",
    "plt.plot(hist_3.history['val_accuracy'])\n",
    "plt.title('Model accuracy')\n",
    "plt.ylabel('Accuracy')\n",
    "plt.xlabel('Epoch')\n",
    "plt.legend(['Train', 'Val'], loc='lower right')\n",
    "plt.show()"
   ]
  },
  {
   "cell_type": "markdown",
   "metadata": {},
   "source": [
    "Compared to our model in the Model 2, I have substantially reduced overfitting."
   ]
  },
  {
   "cell_type": "code",
   "execution_count": 68,
   "metadata": {},
   "outputs": [
    {
     "name": "stdout",
     "output_type": "stream",
     "text": [
      "47/47 [==============================] - 1s 16ms/step - loss: 0.1942 - accuracy: 0.9733\n",
      "loss 0.194168820977211\n",
      "accuracy 0.9733333587646484\n"
     ]
    }
   ],
   "source": [
    "scores = model_3.evaluate(X_test, y_test)\n",
    "\n",
    "for i in range(len(model.metrics_names)):\n",
    "    print(model_3.metrics_names[i], scores[i])"
   ]
  },
  {
   "cell_type": "markdown",
   "metadata": {},
   "source": [
    "The accuracy of the model is even higher: 0.9733."
   ]
  },
  {
   "cell_type": "markdown",
   "metadata": {},
   "source": [
    "## CLASSIN BALANCE"
   ]
  },
  {
   "cell_type": "code",
   "execution_count": 59,
   "metadata": {},
   "outputs": [
    {
     "data": {
      "image/png": "[encoded data removed]",
      "text/plain": [
       "<IPython.core.display.Image object>"
      ]
     },
     "execution_count": 59,
     "metadata": {},
     "output_type": "execute_result"
    }
   ],
   "source": [
    "from IPython.display import Image\n",
    "Image(\"C://Users//kikis//Desktop//LASTYYYEAR//ml TESSERA//Nuova cartella//AI AND ML//Sampling.png\")"
   ]
  },
  {
   "cell_type": "markdown",
   "metadata": {},
   "source": [
    "A widely adopted technique for dealing with highly unbalanced datasets is called resampling. It consists on removing samples from the majority class (under-sampling) and/or adding more examples from the minority class (over-sampling).\n",
    "Oversampling and undersampling in data analysis are techniques used to adjust the class distribution of a data set. \n",
    "The simplest implementation of over-sampling is to duplicate random records from the minority class, which can cause overfitting. In under-sampling, the simplest technique involves removing random records from the majority class, which can cause loss of information."
   ]
  },
  {
   "cell_type": "markdown",
   "metadata": {},
   "source": [
    "Both oversampling and undersampling involve introducing a bias (it results from an unfair sampling of a population, or from an estimation process that does not give accurate results on average) to select more samples from one class than another, to compensate for an imbalance that is either already present in the data, or likely to develop if a purely random sample were taken. Data Imbalance can be of the following types:\n",
    "* Under-representation of a class in one or more important predictor variables;\n",
    "* Under-representation of one class in the outcome (dependent) variable. \n",
    "\n",
    "Oversampling is generally employed more frequently than undersampling, especially when the detailed data has yet to be collected by survey. \n",
    "\n",
    "Oversampling techniques for classification problems are:\n",
    "\n",
    "* Random Oversampling involves supplementing the training data with multiple copies of some of the minority classes. \n",
    "* SMOTE to take a sample from the dataset, and consider its k nearest neighbors (in feature space).\n",
    "* Th ADASYN algorithm by shifting the importance of the classification boundary to those minority classes which are difficult.\n",
    "\n",
    "Undersampling techniques for classification problems are:\n",
    "\n",
    "* Randomly remove samples from the majority class, with or without replacement. This is one of the earliest techniques used to alleviate imbalance in the dataset, however, it may increase the variance of the classifier and is very likely to discard useful or important samples. \n",
    "* Cluster centroids is a method that replaces cluster of samples by the cluster centroid of a K-means algorithm, where the number of clusters is set by the level of undersampling.\n",
    "* Tomek links.\n",
    "* Implementations."
   ]
  },
  {
   "cell_type": "code",
   "execution_count": 60,
   "metadata": {},
   "outputs": [
    {
     "name": "stdout",
     "output_type": "stream",
     "text": [
      "0    4520\n",
      "1     480\n",
      "Name: Personal Loan, dtype: int64\n"
     ]
    },
    {
     "data": {
      "text/plain": [
       "<AxesSubplot:title={'center':'Count (target)'}>"
      ]
     },
     "execution_count": 60,
     "metadata": {},
     "output_type": "execute_result"
    },
    {
     "data": {
      "image/png": "[encoded data removed]",
      "text/plain": [
       "<Figure size 432x288 with 1 Axes>"
      ]
     },
     "metadata": {
      "needs_background": "light"
     },
     "output_type": "display_data"
    }
   ],
   "source": [
    "#Separate majority and minority classes\n",
    "target_count = bank['Personal Loan'].value_counts()\n",
    "print(target_count)\n",
    "df_majority = bank[bank['Personal Loan']== 0]\n",
    "df_minority = bank[bank['Personal Loan']== 1]\n",
    "target_count.plot(kind='bar', title='Count (target)')"
   ]
  },
  {
   "cell_type": "markdown",
   "metadata": {},
   "source": [
    "#### Over sampling"
   ]
  },
  {
   "cell_type": "code",
   "execution_count": 61,
   "metadata": {},
   "outputs": [
    {
     "data": {
      "text/plain": [
       "<AxesSubplot:title={'center':'Count (target)'}>"
      ]
     },
     "execution_count": 61,
     "metadata": {},
     "output_type": "execute_result"
    },
    {
     "data": {
      "image/png": "[encoded data removed]",
      "text/plain": [
       "<Figure size 432x288 with 1 Axes>"
      ]
     },
     "metadata": {
      "needs_background": "light"
     },
     "output_type": "display_data"
    }
   ],
   "source": [
    "from pandas import Series, DataFrame \n",
    "from sklearn.utils import resample\n",
    "\n",
    "#Upsample minority class\n",
    "df_minority_upsampled = resample(df_minority, \n",
    "                                 replace=True,     #sample with replacement\n",
    "                                 n_samples=4520,    #to match majority class = to the number of samples of the majority\n",
    "                                random_state=123) # reproducible results\n",
    "\n",
    "#Combine majority class with upsampled minority class in a new sampled dataframe.\n",
    "df_upsampled = pd.concat([df_majority, df_minority_upsampled])\n",
    " \n",
    "#Display new class counts\n",
    "df_upsampled['Personal Loan'].value_counts()\n",
    "df_upsampled['Personal Loan'].value_counts().plot(kind='bar', title='Count (target)')"
   ]
  },
  {
   "cell_type": "markdown",
   "metadata": {},
   "source": [
    "#### Under sampling"
   ]
  },
  {
   "cell_type": "code",
   "execution_count": 62,
   "metadata": {},
   "outputs": [
    {
     "data": {
      "text/plain": [
       "<AxesSubplot:title={'center':'Count (target)'}>"
      ]
     },
     "execution_count": 62,
     "metadata": {},
     "output_type": "execute_result"
    },
    {
     "data": {
      "image/png": "[encoded data removed]",
      "text/plain": [
       "<Figure size 432x288 with 1 Axes>"
      ]
     },
     "metadata": {
      "needs_background": "light"
     },
     "output_type": "display_data"
    }
   ],
   "source": [
    "df_majority_upsampled = resample(df_majority, \n",
    "                                 replace=True, \n",
    "                                 n_samples=480,                             \n",
    "                                random_state=123)                                \n",
    "\n",
    "df_upsampled_maj = pd.concat([df_minority, df_majority_upsampled])\n",
    "df_upsampled_maj['Personal Loan'].value_counts()\n",
    "df_upsampled_maj['Personal Loan'].value_counts().plot(kind='bar', title='Count (target)')"
   ]
  },
  {
   "cell_type": "markdown",
   "metadata": {},
   "source": [
    "In this case, I am creating exact copies of the minority/majority class records, but I can introduce small variations into those copies, creating more diverse synthetic samples.\n",
    "\n",
    "For example, we can cluster the records of the majority class, and do the under-sampling by removing records from each cluster, thus seeking to preserve information. \n",
    "\n",
    "Unbalance dataset are prevalent in a multitude of fields and sectors, in partcular the financial services: from fraud to non-performing loan.\n",
    "This will introduce a bias to select more samples from one class than from another. I am not sure I am going to work with thesame dataset. Making copies of existing lines, on the other hand, shouldn't lead to major alterations."
   ]
  },
  {
   "cell_type": "markdown",
   "metadata": {},
   "source": [
    "## SMOTE "
   ]
  },
  {
   "cell_type": "code",
   "execution_count": 65,
   "metadata": {},
   "outputs": [
    {
     "name": "stdout",
     "output_type": "stream",
     "text": [
      "After OverSampling, the shape of train_X: (9040, 12)\n",
      "After OverSampling, the shape of train_y: (9040,) \n",
      "\n"
     ]
    }
   ],
   "source": [
    "from sklearn.model_selection import train_test_split, GridSearchCV, StratifiedKFold\n",
    "from imblearn.over_sampling import SMOTE\n",
    "from keras import utils as np_utils\n",
    "from tensorflow.python.keras.utils import generic_utils\n",
    "\n",
    "X = bank.drop('Personal Loan', axis=1)\n",
    "y = bank['Personal Loan']\n",
    "#The class can be majority, minority or auto\n",
    "sm = SMOTE(sampling_strategy='auto', random_state=7)\n",
    "oversampled_trainX, oversampled_testX, oversampled_trainY, oversampled_testY = train_test_split(X, y, test_size=0.3, random_state=0)\n",
    "#Fit the model to generate the data.\n",
    "oversampled_trainX, oversampled_trainY = sm.fit_sample(X, y)\n",
    "print('After OverSampling, the shape of train_X: {}'.format(oversampled_trainX.shape))\n",
    "print('After OverSampling, the shape of train_y: {} \\n'.format(oversampled_trainY.shape)) #They have the same shape.\n",
    "#I will join the new df based on the union of the two train sets.\n",
    "oversampled_train = pd.concat([pd.DataFrame(oversampled_trainY), pd.DataFrame(oversampled_trainX)], axis=1)\n",
    "oversampled_train.columns = df_upsampled.columns"
   ]
  },
  {
   "cell_type": "markdown",
   "metadata": {},
   "source": [
    "Feature correlation is more obvious now: before solving the imbalance problem, most of the features can not show correlation that would surely affect the performance of the model. Since the correlation of features is really important to the overall performance of the model, it is important to correct the imbalance as it will also affect the performance of the ML model."
   ]
  },
  {
   "cell_type": "code",
   "execution_count": 66,
   "metadata": {},
   "outputs": [
    {
     "data": {
      "image/png": "[encoded data removed]",
      "text/plain": [
       "<Figure size 720x504 with 2 Axes>"
      ]
     },
     "metadata": {
      "needs_background": "light"
     },
     "output_type": "display_data"
    }
   ],
   "source": [
    "corr= bank.corr()\n",
    "plt.figure(figsize=(10,7))\n",
    "sns.heatmap(corr,annot= True,vmin=0,vmax=1, cmap='RdYlGn_r',linewidths=0.75)\n",
    "plt.show()"
   ]
  },
  {
   "cell_type": "code",
   "execution_count": 67,
   "metadata": {},
   "outputs": [
    {
     "data": {
      "image/png": "[encoded data removed]",
      "text/plain": [
       "<Figure size 720x504 with 2 Axes>"
      ]
     },
     "metadata": {
      "needs_background": "light"
     },
     "output_type": "display_data"
    }
   ],
   "source": [
    "corr_sm = df_upsampled.corr()\n",
    "plt.figure(figsize=(10,7))\n",
    "sns.heatmap(corr_sm,annot= True,vmin=0,vmax=1, cmap='RdYlGn_r',linewidths=0.75)\n",
    "plt.show()"
   ]
  },
  {
   "cell_type": "markdown",
   "metadata": {},
   "source": [
    "In my case, We can see that the correlation level has risen, without leading to noticeable changes:\n",
    "For example, Mortgage an Age were correlated at about -0.012. Now we can see a positive correlation of 0.022."
   ]
  },
  {
   "cell_type": "markdown",
   "metadata": {},
   "source": [
    "Ensemble learning, in statistics and machine learning, is a set of ensemble methods that use multiple models to achieve better predictive performance with respect to the models it is made up of.\n",
    "In the scikit-learn library there is an ensemble classifier called BaggingClassifier. However, this classifier does not allow to balance every subset of data. Therefore, when training on an unbalanced dataset, this classifier will favour the majority classes and create a skewed model.\n",
    "\n",
    "To solve this problem, I can use BalancedBaggingClassifier from the imblearn library. It allows resampling of each subset of the dataset before training each estimator of the set. Therefore, BalancedBaggingClassifier accepts the same parameters as scikit-learn BaggingClassifier plus two other parameters, sampling_strategy and substitute that control the behavior of the random sampler."
   ]
  },
  {
   "cell_type": "markdown",
   "metadata": {},
   "source": [
    "In this way, I can train a classifier that will handle the imbalance without having to manually undersample or oversample before training.\n",
    "\n",
    "In conclusion, everyone should know that the overall performance of ML models built on unbalanced data sets will be limited by its ability to predict rare and minority points. Identifying and resolving the imbalance of those points is crucial for the quality and performance of the generated models."
   ]
  },
  {
   "cell_type": "markdown",
   "metadata": {},
   "source": [
    "## Comparison of all Models "
   ]
  },
  {
   "cell_type": "code",
   "execution_count": 70,
   "metadata": {},
   "outputs": [
    {
     "data": {
      "text/html": [
       "<div>\n",
       "<style scoped>\n",
       "    .dataframe tbody tr th:only-of-type {\n",
       "        vertical-align: middle;\n",
       "    }\n",
       "\n",
       "    .dataframe tbody tr th {\n",
       "        vertical-align: top;\n",
       "    }\n",
       "\n",
       "    .dataframe thead th {\n",
       "        text-align: right;\n",
       "    }\n",
       "</style>\n",
       "<table border=\"1\" class=\"dataframe\">\n",
       "  <thead>\n",
       "    <tr style=\"text-align: right;\">\n",
       "      <th></th>\n",
       "      <th>Model</th>\n",
       "      <th>Accuracy</th>\n",
       "    </tr>\n",
       "  </thead>\n",
       "  <tbody>\n",
       "    <tr>\n",
       "      <th>0</th>\n",
       "      <td>Logistic Regression Model-sklearn</td>\n",
       "      <td>0.9597</td>\n",
       "    </tr>\n",
       "    <tr>\n",
       "      <th>1</th>\n",
       "      <td>Logistic Regression Using Stats Model</td>\n",
       "      <td>0.9631</td>\n",
       "    </tr>\n",
       "    <tr>\n",
       "      <th>2</th>\n",
       "      <td>Neural Network</td>\n",
       "      <td>0.9733</td>\n",
       "    </tr>\n",
       "  </tbody>\n",
       "</table>\n",
       "</div>"
      ],
      "text/plain": [
       "                                   Model  Accuracy\n",
       "0      Logistic Regression Model-sklearn    0.9597\n",
       "1  Logistic Regression Using Stats Model    0.9631\n",
       "2                         Neural Network    0.9733"
      ]
     },
     "execution_count": 70,
     "metadata": {},
     "output_type": "execute_result"
    }
   ],
   "source": [
    "All_models = {'Model':['Logistic Regression Model-sklearn','Logistic Regression Using Stats Model', 'Neural Network'],'Accuracy':[ 0.9597, 0.9631, 0.9733]}\n",
    "comparison = pd.DataFrame(All_models)\n",
    "\n",
    "comparison\n",
    "\n"
   ]
  },
  {
   "cell_type": "markdown",
   "metadata": {},
   "source": [
    "The objective of my project was to convert the liabilities of a bank, represented by the deposits of the clients, into assets, represented by the acceptance of a Personal Loan proposal from the bank. To achieve this, I developed different models to predict the choises of clients and analyze the most important variable that the bank has to take in account. The winner model is the third Neural Network. However, our dataset is unbalanced because it contains many more observations with a negative target (Personal_Loan = 0) than a positive one (Personal_loan = 1). The algorithm will therefore tend to always predict a large number of True Negatives. We have to deal with èrpblem like this."
   ]
  },
  {
   "cell_type": "markdown",
   "metadata": {},
   "source": [
    "However I can say that our results follow a real logical development. Marketing policies have to consider characteristics such as income or education when presenting the PL campaign to different customers. For example, We can observe that the higher the level of education, the higher the probability of taking a personal loan.  We can do the same reasoning for the other characteristics as well."
   ]
  }
 ],
 "metadata": {
  "kernelspec": {
   "display_name": "Python 3",
   "language": "python",
   "name": "python3"
  },
  "language_info": {
   "codemirror_mode": {
    "name": "ipython",
    "version": 3
   },
   "file_extension": ".py",
   "mimetype": "text/x-python",
   "name": "python",
   "nbconvert_exporter": "python",
   "pygments_lexer": "ipython3",
   "version": "3.8.5"
  }
 },
 "nbformat": 4,
 "nbformat_minor": 4
}
